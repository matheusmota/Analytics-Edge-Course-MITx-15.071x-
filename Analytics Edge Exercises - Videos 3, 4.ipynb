{
 "cells": [
  {
   "cell_type": "markdown",
   "metadata": {},
   "source": [
    "# Analytics Edge Exercises"
   ]
  },
  {
   "cell_type": "markdown",
   "metadata": {},
   "source": [
    "## Video 3 - Vectors and Data Frames (R)"
   ]
  },
  {
   "cell_type": "markdown",
   "metadata": {},
   "source": [
    "#### Valid Variable Names"
   ]
  },
  {
   "cell_type": "code",
   "execution_count": 1,
   "metadata": {},
   "outputs": [
    {
     "data": {
      "text/html": [
       "<ol class=list-inline>\n",
       "\t<li>'Square2.Root'</li>\n",
       "\t<li>'SquareRoot2'</li>\n",
       "</ol>\n"
      ],
      "text/latex": [
       "\\begin{enumerate*}\n",
       "\\item 'Square2.Root'\n",
       "\\item 'SquareRoot2'\n",
       "\\end{enumerate*}\n"
      ],
      "text/markdown": [
       "1. 'Square2.Root'\n",
       "2. 'SquareRoot2'\n",
       "\n",
       "\n"
      ],
      "text/plain": [
       "[1] \"Square2.Root\" \"SquareRoot2\" "
      ]
     },
     "metadata": {},
     "output_type": "display_data"
    },
    {
     "data": {
      "text/html": [
       "<ol class=list-inline>\n",
       "\t<li>'Square2.Root'</li>\n",
       "\t<li>'SquareRoot2'</li>\n",
       "</ol>\n"
      ],
      "text/latex": [
       "\\begin{enumerate*}\n",
       "\\item 'Square2.Root'\n",
       "\\item 'SquareRoot2'\n",
       "\\end{enumerate*}\n"
      ],
      "text/markdown": [
       "1. 'Square2.Root'\n",
       "2. 'SquareRoot2'\n",
       "\n",
       "\n"
      ],
      "text/plain": [
       "[1] \"Square2.Root\" \"SquareRoot2\" "
      ]
     },
     "metadata": {},
     "output_type": "display_data"
    }
   ],
   "source": [
    "SquareRoot2 = 1\n",
    "Square2.Root = 1\n",
    "# Lists users defined objects, variables. same as objects()\n",
    "objects()\n",
    "ls()"
   ]
  },
  {
   "cell_type": "markdown",
   "metadata": {},
   "source": [
    "#### Producing Sequences"
   ]
  },
  {
   "cell_type": "code",
   "execution_count": 2,
   "metadata": {
    "scrolled": true
   },
   "outputs": [
    {
     "data": {
      "text/html": [
       "<ol class=list-inline>\n",
       "\t<li>0</li>\n",
       "\t<li>1</li>\n",
       "\t<li>2</li>\n",
       "\t<li>3</li>\n",
       "\t<li>4</li>\n",
       "\t<li>5</li>\n",
       "\t<li>6</li>\n",
       "\t<li>7</li>\n",
       "\t<li>8</li>\n",
       "\t<li>9</li>\n",
       "\t<li>10</li>\n",
       "\t<li>11</li>\n",
       "\t<li>12</li>\n",
       "\t<li>13</li>\n",
       "\t<li>14</li>\n",
       "\t<li>15</li>\n",
       "\t<li>16</li>\n",
       "\t<li>17</li>\n",
       "\t<li>18</li>\n",
       "\t<li>19</li>\n",
       "\t<li>20</li>\n",
       "</ol>\n"
      ],
      "text/latex": [
       "\\begin{enumerate*}\n",
       "\\item 0\n",
       "\\item 1\n",
       "\\item 2\n",
       "\\item 3\n",
       "\\item 4\n",
       "\\item 5\n",
       "\\item 6\n",
       "\\item 7\n",
       "\\item 8\n",
       "\\item 9\n",
       "\\item 10\n",
       "\\item 11\n",
       "\\item 12\n",
       "\\item 13\n",
       "\\item 14\n",
       "\\item 15\n",
       "\\item 16\n",
       "\\item 17\n",
       "\\item 18\n",
       "\\item 19\n",
       "\\item 20\n",
       "\\end{enumerate*}\n"
      ],
      "text/markdown": [
       "1. 0\n",
       "2. 1\n",
       "3. 2\n",
       "4. 3\n",
       "5. 4\n",
       "6. 5\n",
       "7. 6\n",
       "8. 7\n",
       "9. 8\n",
       "10. 9\n",
       "11. 10\n",
       "12. 11\n",
       "13. 12\n",
       "14. 13\n",
       "15. 14\n",
       "16. 15\n",
       "17. 16\n",
       "18. 17\n",
       "19. 18\n",
       "20. 19\n",
       "21. 20\n",
       "\n",
       "\n"
      ],
      "text/plain": [
       " [1]  0  1  2  3  4  5  6  7  8  9 10 11 12 13 14 15 16 17 18 19 20"
      ]
     },
     "metadata": {},
     "output_type": "display_data"
    },
    {
     "data": {
      "text/html": [
       "<ol class=list-inline>\n",
       "\t<li>0</li>\n",
       "\t<li>5</li>\n",
       "\t<li>10</li>\n",
       "\t<li>15</li>\n",
       "\t<li>20</li>\n",
       "</ol>\n"
      ],
      "text/latex": [
       "\\begin{enumerate*}\n",
       "\\item 0\n",
       "\\item 5\n",
       "\\item 10\n",
       "\\item 15\n",
       "\\item 20\n",
       "\\end{enumerate*}\n"
      ],
      "text/markdown": [
       "1. 0\n",
       "2. 5\n",
       "3. 10\n",
       "4. 15\n",
       "5. 20\n",
       "\n",
       "\n"
      ],
      "text/plain": [
       "[1]  0  5 10 15 20"
      ]
     },
     "metadata": {},
     "output_type": "display_data"
    }
   ],
   "source": [
    "seq(0,20)\n",
    "seq(0,20,5)"
   ]
  },
  {
   "cell_type": "markdown",
   "metadata": {},
   "source": [
    "#### Combine Values into a Vector or List"
   ]
  },
  {
   "cell_type": "code",
   "execution_count": 3,
   "metadata": {},
   "outputs": [
    {
     "data": {
      "text/html": [
       "<ol class=list-inline>\n",
       "\t<li>'Brazil'</li>\n",
       "\t<li>'China'</li>\n",
       "\t<li>'India'</li>\n",
       "\t<li>'USA'</li>\n",
       "</ol>\n"
      ],
      "text/latex": [
       "\\begin{enumerate*}\n",
       "\\item 'Brazil'\n",
       "\\item 'China'\n",
       "\\item 'India'\n",
       "\\item 'USA'\n",
       "\\end{enumerate*}\n"
      ],
      "text/markdown": [
       "1. 'Brazil'\n",
       "2. 'China'\n",
       "3. 'India'\n",
       "4. 'USA'\n",
       "\n",
       "\n"
      ],
      "text/plain": [
       "[1] \"Brazil\" \"China\"  \"India\"  \"USA\"   "
      ]
     },
     "metadata": {},
     "output_type": "display_data"
    }
   ],
   "source": [
    "Country = c(\"Brazil\", \"China\", \"India\", \"USA\")\n",
    "Country"
   ]
  },
  {
   "cell_type": "code",
   "execution_count": 4,
   "metadata": {},
   "outputs": [
    {
     "data": {
      "text/html": [
       "<ol class=list-inline>\n",
       "\t<li>71</li>\n",
       "\t<li>83</li>\n",
       "\t<li>91</li>\n",
       "\t<li>74</li>\n",
       "</ol>\n"
      ],
      "text/latex": [
       "\\begin{enumerate*}\n",
       "\\item 71\n",
       "\\item 83\n",
       "\\item 91\n",
       "\\item 74\n",
       "\\end{enumerate*}\n"
      ],
      "text/markdown": [
       "1. 71\n",
       "2. 83\n",
       "3. 91\n",
       "4. 74\n",
       "\n",
       "\n"
      ],
      "text/plain": [
       "[1] 71 83 91 74"
      ]
     },
     "metadata": {},
     "output_type": "display_data"
    }
   ],
   "source": [
    "LifeExpectancy = c(71, 83, 91,74)\n",
    "LifeExpectancy"
   ]
  },
  {
   "cell_type": "code",
   "execution_count": 5,
   "metadata": {},
   "outputs": [
    {
     "data": {
      "text/html": [
       "<table>\n",
       "<thead><tr><th scope=col>Country</th><th scope=col>LifeExpectancy</th></tr></thead>\n",
       "<tbody>\n",
       "\t<tr><td>Brazil</td><td>71    </td></tr>\n",
       "\t<tr><td>China </td><td>83    </td></tr>\n",
       "\t<tr><td>India </td><td>91    </td></tr>\n",
       "\t<tr><td>USA   </td><td>74    </td></tr>\n",
       "</tbody>\n",
       "</table>\n"
      ],
      "text/latex": [
       "\\begin{tabular}{r|ll}\n",
       " Country & LifeExpectancy\\\\\n",
       "\\hline\n",
       "\t Brazil & 71    \\\\\n",
       "\t China  & 83    \\\\\n",
       "\t India  & 91    \\\\\n",
       "\t USA    & 74    \\\\\n",
       "\\end{tabular}\n"
      ],
      "text/markdown": [
       "\n",
       "Country | LifeExpectancy | \n",
       "|---|---|---|---|\n",
       "| Brazil | 71     | \n",
       "| China  | 83     | \n",
       "| India  | 91     | \n",
       "| USA    | 74     | \n",
       "\n",
       "\n"
      ],
      "text/plain": [
       "  Country LifeExpectancy\n",
       "1 Brazil  71            \n",
       "2 China   83            \n",
       "3 India   91            \n",
       "4 USA     74            "
      ]
     },
     "metadata": {},
     "output_type": "display_data"
    }
   ],
   "source": [
    "CountryData = data.frame(Country,LifeExpectancy)\n",
    "CountryData"
   ]
  },
  {
   "cell_type": "code",
   "execution_count": 6,
   "metadata": {},
   "outputs": [
    {
     "data": {
      "text/html": [
       "<table>\n",
       "<thead><tr><th scope=col>Country</th><th scope=col>LifeExpectancy</th><th scope=col>Population</th></tr></thead>\n",
       "<tbody>\n",
       "\t<tr><td>Brazil    </td><td>71        </td><td>   1111231</td></tr>\n",
       "\t<tr><td>China     </td><td>83        </td><td>  29343234</td></tr>\n",
       "\t<tr><td>India     </td><td>91        </td><td>  23421234</td></tr>\n",
       "\t<tr><td>USA       </td><td>74        </td><td>1234213123</td></tr>\n",
       "</tbody>\n",
       "</table>\n"
      ],
      "text/latex": [
       "\\begin{tabular}{r|lll}\n",
       " Country & LifeExpectancy & Population\\\\\n",
       "\\hline\n",
       "\t Brazil     & 71         &    1111231\\\\\n",
       "\t China      & 83         &   29343234\\\\\n",
       "\t India      & 91         &   23421234\\\\\n",
       "\t USA        & 74         & 1234213123\\\\\n",
       "\\end{tabular}\n"
      ],
      "text/markdown": [
       "\n",
       "Country | LifeExpectancy | Population | \n",
       "|---|---|---|---|\n",
       "| Brazil     | 71         |    1111231 | \n",
       "| China      | 83         |   29343234 | \n",
       "| India      | 91         |   23421234 | \n",
       "| USA        | 74         | 1234213123 | \n",
       "\n",
       "\n"
      ],
      "text/plain": [
       "  Country LifeExpectancy Population\n",
       "1 Brazil  71                1111231\n",
       "2 China   83               29343234\n",
       "3 India   91               23421234\n",
       "4 USA     74             1234213123"
      ]
     },
     "metadata": {},
     "output_type": "display_data"
    }
   ],
   "source": [
    "CountryData$Population = c(1111231, 29343234, 23421234, 1234213123)\n",
    "CountryData"
   ]
  },
  {
   "cell_type": "code",
   "execution_count": 7,
   "metadata": {},
   "outputs": [
    {
     "data": {
      "text/html": [
       "<table>\n",
       "<thead><tr><th scope=col>Country</th><th scope=col>LifeExpectancy</th><th scope=col>Population</th></tr></thead>\n",
       "<tbody>\n",
       "\t<tr><td>Australia</td><td>71       </td><td>123242   </td></tr>\n",
       "\t<tr><td>Greece   </td><td>13       </td><td>533535   </td></tr>\n",
       "</tbody>\n",
       "</table>\n"
      ],
      "text/latex": [
       "\\begin{tabular}{r|lll}\n",
       " Country & LifeExpectancy & Population\\\\\n",
       "\\hline\n",
       "\t Australia & 71        & 123242   \\\\\n",
       "\t Greece    & 13        & 533535   \\\\\n",
       "\\end{tabular}\n"
      ],
      "text/markdown": [
       "\n",
       "Country | LifeExpectancy | Population | \n",
       "|---|---|\n",
       "| Australia | 71        | 123242    | \n",
       "| Greece    | 13        | 533535    | \n",
       "\n",
       "\n"
      ],
      "text/plain": [
       "  Country   LifeExpectancy Population\n",
       "1 Australia 71             123242    \n",
       "2 Greece    13             533535    "
      ]
     },
     "metadata": {},
     "output_type": "display_data"
    }
   ],
   "source": [
    "Country = c(\"Australia\", \"Greece\")\n",
    "Population = c(123242, 533535)\n",
    "LifeExpectancy = c(71, 13)\n",
    "CountryData2 =  data.frame(Country, LifeExpectancy, Population)\n",
    "CountryData2"
   ]
  },
  {
   "cell_type": "code",
   "execution_count": 8,
   "metadata": {},
   "outputs": [
    {
     "data": {
      "text/html": [
       "<table>\n",
       "<thead><tr><th scope=col>Country</th><th scope=col>LifeExpectancy</th><th scope=col>Population</th></tr></thead>\n",
       "<tbody>\n",
       "\t<tr><td>Brazil    </td><td>71        </td><td>   1111231</td></tr>\n",
       "\t<tr><td>China     </td><td>83        </td><td>  29343234</td></tr>\n",
       "\t<tr><td>India     </td><td>91        </td><td>  23421234</td></tr>\n",
       "\t<tr><td>USA       </td><td>74        </td><td>1234213123</td></tr>\n",
       "\t<tr><td>Australia </td><td>71        </td><td>    123242</td></tr>\n",
       "\t<tr><td>Greece    </td><td>13        </td><td>    533535</td></tr>\n",
       "</tbody>\n",
       "</table>\n"
      ],
      "text/latex": [
       "\\begin{tabular}{r|lll}\n",
       " Country & LifeExpectancy & Population\\\\\n",
       "\\hline\n",
       "\t Brazil     & 71         &    1111231\\\\\n",
       "\t China      & 83         &   29343234\\\\\n",
       "\t India      & 91         &   23421234\\\\\n",
       "\t USA        & 74         & 1234213123\\\\\n",
       "\t Australia  & 71         &     123242\\\\\n",
       "\t Greece     & 13         &     533535\\\\\n",
       "\\end{tabular}\n"
      ],
      "text/markdown": [
       "\n",
       "Country | LifeExpectancy | Population | \n",
       "|---|---|---|---|---|---|\n",
       "| Brazil     | 71         |    1111231 | \n",
       "| China      | 83         |   29343234 | \n",
       "| India      | 91         |   23421234 | \n",
       "| USA        | 74         | 1234213123 | \n",
       "| Australia  | 71         |     123242 | \n",
       "| Greece     | 13         |     533535 | \n",
       "\n",
       "\n"
      ],
      "text/plain": [
       "  Country   LifeExpectancy Population\n",
       "1 Brazil    71                1111231\n",
       "2 China     83               29343234\n",
       "3 India     91               23421234\n",
       "4 USA       74             1234213123\n",
       "5 Australia 71                 123242\n",
       "6 Greece    13                 533535"
      ]
     },
     "metadata": {},
     "output_type": "display_data"
    }
   ],
   "source": [
    "CombinedCountryData = rbind(CountryData, CountryData2)\n",
    "CombinedCountryData"
   ]
  },
  {
   "cell_type": "markdown",
   "metadata": {},
   "source": [
    "## Video 4 - Loading Data Files"
   ]
  }
 ],
 "metadata": {
  "kernelspec": {
   "display_name": "R",
   "language": "R",
   "name": "ir"
  },
  "language_info": {
   "codemirror_mode": "r",
   "file_extension": ".r",
   "mimetype": "text/x-r-source",
   "name": "R",
   "pygments_lexer": "r",
   "version": "3.2.3"
  }
 },
 "nbformat": 4,
 "nbformat_minor": 2
}
