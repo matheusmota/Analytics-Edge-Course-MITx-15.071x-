{
 "cells": [
  {
   "cell_type": "markdown",
   "metadata": {},
   "source": [
    "# Analytics Edge Exercises"
   ]
  },
  {
   "cell_type": "markdown",
   "metadata": {},
   "source": [
    "## Video 3 - Vectors and Data Frames (R)"
   ]
  },
  {
   "cell_type": "markdown",
   "metadata": {},
   "source": [
    "#### Valid Variable Names"
   ]
  },
  {
   "cell_type": "code",
   "execution_count": 1,
   "metadata": {},
   "outputs": [
    {
     "data": {
      "text/html": [
       "<ol class=list-inline>\n",
       "\t<li>'Square2.Root'</li>\n",
       "\t<li>'SquareRoot2'</li>\n",
       "</ol>\n"
      ],
      "text/latex": [
       "\\begin{enumerate*}\n",
       "\\item 'Square2.Root'\n",
       "\\item 'SquareRoot2'\n",
       "\\end{enumerate*}\n"
      ],
      "text/markdown": [
       "1. 'Square2.Root'\n",
       "2. 'SquareRoot2'\n",
       "\n",
       "\n"
      ],
      "text/plain": [
       "[1] \"Square2.Root\" \"SquareRoot2\" "
      ]
     },
     "metadata": {},
     "output_type": "display_data"
    },
    {
     "data": {
      "text/html": [
       "<ol class=list-inline>\n",
       "\t<li>'Square2.Root'</li>\n",
       "\t<li>'SquareRoot2'</li>\n",
       "</ol>\n"
      ],
      "text/latex": [
       "\\begin{enumerate*}\n",
       "\\item 'Square2.Root'\n",
       "\\item 'SquareRoot2'\n",
       "\\end{enumerate*}\n"
      ],
      "text/markdown": [
       "1. 'Square2.Root'\n",
       "2. 'SquareRoot2'\n",
       "\n",
       "\n"
      ],
      "text/plain": [
       "[1] \"Square2.Root\" \"SquareRoot2\" "
      ]
     },
     "metadata": {},
     "output_type": "display_data"
    }
   ],
   "source": [
    "SquareRoot2 = 1\n",
    "Square2.Root = 1\n",
    "# Lists users defined objects, variables. same as objects()\n",
    "objects()\n",
    "ls()"
   ]
  },
  {
   "cell_type": "markdown",
   "metadata": {},
   "source": [
    "#### Producing Sequences"
   ]
  },
  {
   "cell_type": "code",
   "execution_count": 2,
   "metadata": {
    "scrolled": true
   },
   "outputs": [
    {
     "data": {
      "text/html": [
       "<ol class=list-inline>\n",
       "\t<li>0</li>\n",
       "\t<li>1</li>\n",
       "\t<li>2</li>\n",
       "\t<li>3</li>\n",
       "\t<li>4</li>\n",
       "\t<li>5</li>\n",
       "\t<li>6</li>\n",
       "\t<li>7</li>\n",
       "\t<li>8</li>\n",
       "\t<li>9</li>\n",
       "\t<li>10</li>\n",
       "\t<li>11</li>\n",
       "\t<li>12</li>\n",
       "\t<li>13</li>\n",
       "\t<li>14</li>\n",
       "\t<li>15</li>\n",
       "\t<li>16</li>\n",
       "\t<li>17</li>\n",
       "\t<li>18</li>\n",
       "\t<li>19</li>\n",
       "\t<li>20</li>\n",
       "</ol>\n"
      ],
      "text/latex": [
       "\\begin{enumerate*}\n",
       "\\item 0\n",
       "\\item 1\n",
       "\\item 2\n",
       "\\item 3\n",
       "\\item 4\n",
       "\\item 5\n",
       "\\item 6\n",
       "\\item 7\n",
       "\\item 8\n",
       "\\item 9\n",
       "\\item 10\n",
       "\\item 11\n",
       "\\item 12\n",
       "\\item 13\n",
       "\\item 14\n",
       "\\item 15\n",
       "\\item 16\n",
       "\\item 17\n",
       "\\item 18\n",
       "\\item 19\n",
       "\\item 20\n",
       "\\end{enumerate*}\n"
      ],
      "text/markdown": [
       "1. 0\n",
       "2. 1\n",
       "3. 2\n",
       "4. 3\n",
       "5. 4\n",
       "6. 5\n",
       "7. 6\n",
       "8. 7\n",
       "9. 8\n",
       "10. 9\n",
       "11. 10\n",
       "12. 11\n",
       "13. 12\n",
       "14. 13\n",
       "15. 14\n",
       "16. 15\n",
       "17. 16\n",
       "18. 17\n",
       "19. 18\n",
       "20. 19\n",
       "21. 20\n",
       "\n",
       "\n"
      ],
      "text/plain": [
       " [1]  0  1  2  3  4  5  6  7  8  9 10 11 12 13 14 15 16 17 18 19 20"
      ]
     },
     "metadata": {},
     "output_type": "display_data"
    },
    {
     "data": {
      "text/html": [
       "<ol class=list-inline>\n",
       "\t<li>0</li>\n",
       "\t<li>5</li>\n",
       "\t<li>10</li>\n",
       "\t<li>15</li>\n",
       "\t<li>20</li>\n",
       "</ol>\n"
      ],
      "text/latex": [
       "\\begin{enumerate*}\n",
       "\\item 0\n",
       "\\item 5\n",
       "\\item 10\n",
       "\\item 15\n",
       "\\item 20\n",
       "\\end{enumerate*}\n"
      ],
      "text/markdown": [
       "1. 0\n",
       "2. 5\n",
       "3. 10\n",
       "4. 15\n",
       "5. 20\n",
       "\n",
       "\n"
      ],
      "text/plain": [
       "[1]  0  5 10 15 20"
      ]
     },
     "metadata": {},
     "output_type": "display_data"
    }
   ],
   "source": [
    "seq(0,20)\n",
    "seq(0,20,5)"
   ]
  },
  {
   "cell_type": "markdown",
   "metadata": {},
   "source": [
    "#### Combine Values into a Vector or List"
   ]
  },
  {
   "cell_type": "code",
   "execution_count": 3,
   "metadata": {},
   "outputs": [
    {
     "data": {
      "text/html": [
       "<ol class=list-inline>\n",
       "\t<li>'Brazil'</li>\n",
       "\t<li>'China'</li>\n",
       "\t<li>'India'</li>\n",
       "\t<li>'USA'</li>\n",
       "</ol>\n"
      ],
      "text/latex": [
       "\\begin{enumerate*}\n",
       "\\item 'Brazil'\n",
       "\\item 'China'\n",
       "\\item 'India'\n",
       "\\item 'USA'\n",
       "\\end{enumerate*}\n"
      ],
      "text/markdown": [
       "1. 'Brazil'\n",
       "2. 'China'\n",
       "3. 'India'\n",
       "4. 'USA'\n",
       "\n",
       "\n"
      ],
      "text/plain": [
       "[1] \"Brazil\" \"China\"  \"India\"  \"USA\"   "
      ]
     },
     "metadata": {},
     "output_type": "display_data"
    }
   ],
   "source": [
    "Country = c(\"Brazil\", \"China\", \"India\", \"USA\")\n",
    "Country"
   ]
  },
  {
   "cell_type": "code",
   "execution_count": 4,
   "metadata": {},
   "outputs": [
    {
     "data": {
      "text/html": [
       "<ol class=list-inline>\n",
       "\t<li>71</li>\n",
       "\t<li>83</li>\n",
       "\t<li>91</li>\n",
       "\t<li>74</li>\n",
       "</ol>\n"
      ],
      "text/latex": [
       "\\begin{enumerate*}\n",
       "\\item 71\n",
       "\\item 83\n",
       "\\item 91\n",
       "\\item 74\n",
       "\\end{enumerate*}\n"
      ],
      "text/markdown": [
       "1. 71\n",
       "2. 83\n",
       "3. 91\n",
       "4. 74\n",
       "\n",
       "\n"
      ],
      "text/plain": [
       "[1] 71 83 91 74"
      ]
     },
     "metadata": {},
     "output_type": "display_data"
    }
   ],
   "source": [
    "LifeExpectancy = c(71, 83, 91,74)\n",
    "LifeExpectancy"
   ]
  },
  {
   "cell_type": "code",
   "execution_count": 5,
   "metadata": {},
   "outputs": [
    {
     "data": {
      "text/html": [
       "<table>\n",
       "<thead><tr><th scope=col>Country</th><th scope=col>LifeExpectancy</th></tr></thead>\n",
       "<tbody>\n",
       "\t<tr><td>Brazil</td><td>71    </td></tr>\n",
       "\t<tr><td>China </td><td>83    </td></tr>\n",
       "\t<tr><td>India </td><td>91    </td></tr>\n",
       "\t<tr><td>USA   </td><td>74    </td></tr>\n",
       "</tbody>\n",
       "</table>\n"
      ],
      "text/latex": [
       "\\begin{tabular}{r|ll}\n",
       " Country & LifeExpectancy\\\\\n",
       "\\hline\n",
       "\t Brazil & 71    \\\\\n",
       "\t China  & 83    \\\\\n",
       "\t India  & 91    \\\\\n",
       "\t USA    & 74    \\\\\n",
       "\\end{tabular}\n"
      ],
      "text/markdown": [
       "\n",
       "Country | LifeExpectancy | \n",
       "|---|---|---|---|\n",
       "| Brazil | 71     | \n",
       "| China  | 83     | \n",
       "| India  | 91     | \n",
       "| USA    | 74     | \n",
       "\n",
       "\n"
      ],
      "text/plain": [
       "  Country LifeExpectancy\n",
       "1 Brazil  71            \n",
       "2 China   83            \n",
       "3 India   91            \n",
       "4 USA     74            "
      ]
     },
     "metadata": {},
     "output_type": "display_data"
    }
   ],
   "source": [
    "CountryData = data.frame(Country,LifeExpectancy)\n",
    "CountryData"
   ]
  },
  {
   "cell_type": "code",
   "execution_count": 6,
   "metadata": {},
   "outputs": [
    {
     "data": {
      "text/html": [
       "<table>\n",
       "<thead><tr><th scope=col>Country</th><th scope=col>LifeExpectancy</th><th scope=col>Population</th></tr></thead>\n",
       "<tbody>\n",
       "\t<tr><td>Brazil    </td><td>71        </td><td>   1111231</td></tr>\n",
       "\t<tr><td>China     </td><td>83        </td><td>  29343234</td></tr>\n",
       "\t<tr><td>India     </td><td>91        </td><td>  23421234</td></tr>\n",
       "\t<tr><td>USA       </td><td>74        </td><td>1234213123</td></tr>\n",
       "</tbody>\n",
       "</table>\n"
      ],
      "text/latex": [
       "\\begin{tabular}{r|lll}\n",
       " Country & LifeExpectancy & Population\\\\\n",
       "\\hline\n",
       "\t Brazil     & 71         &    1111231\\\\\n",
       "\t China      & 83         &   29343234\\\\\n",
       "\t India      & 91         &   23421234\\\\\n",
       "\t USA        & 74         & 1234213123\\\\\n",
       "\\end{tabular}\n"
      ],
      "text/markdown": [
       "\n",
       "Country | LifeExpectancy | Population | \n",
       "|---|---|---|---|\n",
       "| Brazil     | 71         |    1111231 | \n",
       "| China      | 83         |   29343234 | \n",
       "| India      | 91         |   23421234 | \n",
       "| USA        | 74         | 1234213123 | \n",
       "\n",
       "\n"
      ],
      "text/plain": [
       "  Country LifeExpectancy Population\n",
       "1 Brazil  71                1111231\n",
       "2 China   83               29343234\n",
       "3 India   91               23421234\n",
       "4 USA     74             1234213123"
      ]
     },
     "metadata": {},
     "output_type": "display_data"
    }
   ],
   "source": [
    "CountryData$Population = c(1111231, 29343234, 23421234, 1234213123)\n",
    "CountryData"
   ]
  },
  {
   "cell_type": "code",
   "execution_count": 7,
   "metadata": {},
   "outputs": [
    {
     "data": {
      "text/html": [
       "<table>\n",
       "<thead><tr><th scope=col>Country</th><th scope=col>LifeExpectancy</th><th scope=col>Population</th></tr></thead>\n",
       "<tbody>\n",
       "\t<tr><td>Australia</td><td>71       </td><td>123242   </td></tr>\n",
       "\t<tr><td>Greece   </td><td>13       </td><td>533535   </td></tr>\n",
       "</tbody>\n",
       "</table>\n"
      ],
      "text/latex": [
       "\\begin{tabular}{r|lll}\n",
       " Country & LifeExpectancy & Population\\\\\n",
       "\\hline\n",
       "\t Australia & 71        & 123242   \\\\\n",
       "\t Greece    & 13        & 533535   \\\\\n",
       "\\end{tabular}\n"
      ],
      "text/markdown": [
       "\n",
       "Country | LifeExpectancy | Population | \n",
       "|---|---|\n",
       "| Australia | 71        | 123242    | \n",
       "| Greece    | 13        | 533535    | \n",
       "\n",
       "\n"
      ],
      "text/plain": [
       "  Country   LifeExpectancy Population\n",
       "1 Australia 71             123242    \n",
       "2 Greece    13             533535    "
      ]
     },
     "metadata": {},
     "output_type": "display_data"
    }
   ],
   "source": [
    "Country = c(\"Australia\", \"Greece\")\n",
    "Population = c(123242, 533535)\n",
    "LifeExpectancy = c(71, 13)\n",
    "CountryData2 =  data.frame(Country, LifeExpectancy, Population)\n",
    "CountryData2"
   ]
  },
  {
   "cell_type": "code",
   "execution_count": 8,
   "metadata": {},
   "outputs": [
    {
     "data": {
      "text/html": [
       "<table>\n",
       "<thead><tr><th scope=col>Country</th><th scope=col>LifeExpectancy</th><th scope=col>Population</th></tr></thead>\n",
       "<tbody>\n",
       "\t<tr><td>Brazil    </td><td>71        </td><td>   1111231</td></tr>\n",
       "\t<tr><td>China     </td><td>83        </td><td>  29343234</td></tr>\n",
       "\t<tr><td>India     </td><td>91        </td><td>  23421234</td></tr>\n",
       "\t<tr><td>USA       </td><td>74        </td><td>1234213123</td></tr>\n",
       "\t<tr><td>Australia </td><td>71        </td><td>    123242</td></tr>\n",
       "\t<tr><td>Greece    </td><td>13        </td><td>    533535</td></tr>\n",
       "</tbody>\n",
       "</table>\n"
      ],
      "text/latex": [
       "\\begin{tabular}{r|lll}\n",
       " Country & LifeExpectancy & Population\\\\\n",
       "\\hline\n",
       "\t Brazil     & 71         &    1111231\\\\\n",
       "\t China      & 83         &   29343234\\\\\n",
       "\t India      & 91         &   23421234\\\\\n",
       "\t USA        & 74         & 1234213123\\\\\n",
       "\t Australia  & 71         &     123242\\\\\n",
       "\t Greece     & 13         &     533535\\\\\n",
       "\\end{tabular}\n"
      ],
      "text/markdown": [
       "\n",
       "Country | LifeExpectancy | Population | \n",
       "|---|---|---|---|---|---|\n",
       "| Brazil     | 71         |    1111231 | \n",
       "| China      | 83         |   29343234 | \n",
       "| India      | 91         |   23421234 | \n",
       "| USA        | 74         | 1234213123 | \n",
       "| Australia  | 71         |     123242 | \n",
       "| Greece     | 13         |     533535 | \n",
       "\n",
       "\n"
      ],
      "text/plain": [
       "  Country   LifeExpectancy Population\n",
       "1 Brazil    71                1111231\n",
       "2 China     83               29343234\n",
       "3 India     91               23421234\n",
       "4 USA       74             1234213123\n",
       "5 Australia 71                 123242\n",
       "6 Greece    13                 533535"
      ]
     },
     "metadata": {},
     "output_type": "display_data"
    }
   ],
   "source": [
    "CombinedCountryData = rbind(CountryData, CountryData2)\n",
    "CombinedCountryData"
   ]
  },
  {
   "cell_type": "markdown",
   "metadata": {},
   "source": [
    "## Video 4 - Loading Data Files"
   ]
  },
  {
   "cell_type": "code",
   "execution_count": 2,
   "metadata": {
    "collapsed": true
   },
   "outputs": [],
   "source": [
    "whocsv = read.csv(\"https://d37djvu3ytnwxt.cloudfront.net/assets/courseware/v1/ccdc87b80d92a9c24de2f04daec5bb58/asset-v1:MITx+15.071x+2T2017+type@asset+block/WHO.csv\")"
   ]
  },
  {
   "cell_type": "code",
   "execution_count": 3,
   "metadata": {},
   "outputs": [
    {
     "data": {
      "text/html": [
       "<table>\n",
       "<thead><tr><th scope=col>Country</th><th scope=col>Region</th><th scope=col>Population</th><th scope=col>Under15</th><th scope=col>Over60</th><th scope=col>FertilityRate</th><th scope=col>LifeExpectancy</th><th scope=col>ChildMortality</th><th scope=col>CellularSubscribers</th><th scope=col>LiteracyRate</th><th scope=col>GNI</th><th scope=col>PrimarySchoolEnrollmentMale</th><th scope=col>PrimarySchoolEnrollmentFemale</th></tr></thead>\n",
       "<tbody>\n",
       "\t<tr><td>Afghanistan                     </td><td>Eastern Mediterranean           </td><td> 29825                          </td><td>47.42                           </td><td> 3.82                           </td><td>5.40                            </td><td>60                              </td><td> 98.5                           </td><td> 54.26                          </td><td>  NA                            </td><td> 1140                           </td><td>  NA                            </td><td>  NA                            </td></tr>\n",
       "\t<tr><td>Albania                         </td><td>Europe                          </td><td>  3162                          </td><td>21.33                           </td><td>14.93                           </td><td>1.75                            </td><td>74                              </td><td> 16.7                           </td><td> 96.39                          </td><td>  NA                            </td><td> 8820                           </td><td>  NA                            </td><td>  NA                            </td></tr>\n",
       "\t<tr><td>Algeria                         </td><td>Africa                          </td><td> 38482                          </td><td>27.42                           </td><td> 7.17                           </td><td>2.83                            </td><td>73                              </td><td> 20.0                           </td><td> 98.99                          </td><td>  NA                            </td><td> 8310                           </td><td>98.2                            </td><td>96.4                            </td></tr>\n",
       "\t<tr><td>Andorra                         </td><td>Europe                          </td><td>    78                          </td><td>15.20                           </td><td>22.86                           </td><td>  NA                            </td><td>82                              </td><td>  3.2                           </td><td> 75.49                          </td><td>  NA                            </td><td>   NA                           </td><td>78.4                            </td><td>79.4                            </td></tr>\n",
       "\t<tr><td>Angola                          </td><td>Africa                          </td><td> 20821                          </td><td>47.58                           </td><td> 3.84                           </td><td>6.10                            </td><td>51                              </td><td>163.5                           </td><td> 48.38                          </td><td>70.1                            </td><td> 5230                           </td><td>93.1                            </td><td>78.2                            </td></tr>\n",
       "\t<tr><td>Antigua and Barbuda             </td><td>Americas                        </td><td>    89                          </td><td>25.96                           </td><td>12.35                           </td><td>2.12                            </td><td>75                              </td><td>  9.9                           </td><td>196.41                          </td><td>99.0                            </td><td>17900                           </td><td>91.1                            </td><td>84.5                            </td></tr>\n",
       "\t<tr><td>Argentina                       </td><td>Americas                        </td><td> 41087                          </td><td>24.42                           </td><td>14.97                           </td><td>2.20                            </td><td>76                              </td><td> 14.2                           </td><td>134.92                          </td><td>97.8                            </td><td>17130                           </td><td>  NA                            </td><td>  NA                            </td></tr>\n",
       "\t<tr><td>Armenia                         </td><td>Europe                          </td><td>  2969                          </td><td>20.34                           </td><td>14.06                           </td><td>1.74                            </td><td>71                              </td><td> 16.4                           </td><td>103.57                          </td><td>99.6                            </td><td> 6100                           </td><td>  NA                            </td><td>  NA                            </td></tr>\n",
       "\t<tr><td>Australia                       </td><td>Western Pacific                 </td><td> 23050                          </td><td>18.95                           </td><td>19.46                           </td><td>1.89                            </td><td>82                              </td><td>  4.9                           </td><td>108.34                          </td><td>  NA                            </td><td>38110                           </td><td>96.9                            </td><td>97.5                            </td></tr>\n",
       "\t<tr><td>Austria                         </td><td>Europe                          </td><td>  8464                          </td><td>14.51                           </td><td>23.52                           </td><td>1.44                            </td><td>81                              </td><td>  4.0                           </td><td>154.78                          </td><td>  NA                            </td><td>42050                           </td><td>  NA                            </td><td>  NA                            </td></tr>\n",
       "\t<tr><td>Azerbaijan                      </td><td>Europe                          </td><td>  9309                          </td><td>22.25                           </td><td> 8.24                           </td><td>1.96                            </td><td>71                              </td><td> 35.2                           </td><td>108.75                          </td><td>  NA                            </td><td> 8960                           </td><td>85.3                            </td><td>84.1                            </td></tr>\n",
       "\t<tr><td>Bahamas                         </td><td>Americas                        </td><td>   372                          </td><td>21.62                           </td><td>11.24                           </td><td>1.90                            </td><td>75                              </td><td> 16.9                           </td><td> 86.06                          </td><td>  NA                            </td><td>   NA                           </td><td>  NA                            </td><td>  NA                            </td></tr>\n",
       "\t<tr><td>Bahrain                         </td><td>Eastern Mediterranean           </td><td>  1318                          </td><td>20.16                           </td><td> 3.38                           </td><td>2.12                            </td><td>79                              </td><td>  9.6                           </td><td>127.96                          </td><td>91.9                            </td><td>   NA                           </td><td>  NA                            </td><td>  NA                            </td></tr>\n",
       "\t<tr><td>Bangladesh                      </td><td>South-East Asia                 </td><td>155000                          </td><td>30.57                           </td><td> 6.89                           </td><td>2.24                            </td><td>70                              </td><td> 40.9                           </td><td> 56.06                          </td><td>56.8                            </td><td> 1940                           </td><td>  NA                            </td><td>  NA                            </td></tr>\n",
       "\t<tr><td>Barbados                        </td><td>Americas                        </td><td>   283                          </td><td>18.99                           </td><td>15.78                           </td><td>1.84                            </td><td>78                              </td><td> 18.4                           </td><td>127.01                          </td><td>  NA                            </td><td>   NA                           </td><td>  NA                            </td><td>  NA                            </td></tr>\n",
       "\t<tr><td>Belarus                         </td><td>Europe                          </td><td>  9405                          </td><td>15.10                           </td><td>19.31                           </td><td>1.47                            </td><td>71                              </td><td>  5.2                           </td><td>111.88                          </td><td>  NA                            </td><td>14460                           </td><td>  NA                            </td><td>  NA                            </td></tr>\n",
       "\t<tr><td>Belgium                         </td><td>Europe                          </td><td> 11060                          </td><td>16.88                           </td><td>23.81                           </td><td>1.85                            </td><td>80                              </td><td>  4.2                           </td><td>116.61                          </td><td>  NA                            </td><td>39190                           </td><td>98.9                            </td><td>99.2                            </td></tr>\n",
       "\t<tr><td>Belize                          </td><td>Americas                        </td><td>   324                          </td><td>34.40                           </td><td> 5.74                           </td><td>2.76                            </td><td>74                              </td><td> 18.3                           </td><td> 69.96                          </td><td>  NA                            </td><td> 6090                           </td><td>  NA                            </td><td>  NA                            </td></tr>\n",
       "\t<tr><td>Benin                           </td><td>Africa                          </td><td> 10051                          </td><td>42.95                           </td><td> 4.54                           </td><td>5.01                            </td><td>57                              </td><td> 89.5                           </td><td> 85.33                          </td><td>42.4                            </td><td> 1620                           </td><td>  NA                            </td><td>  NA                            </td></tr>\n",
       "\t<tr><td>Bhutan                          </td><td>South-East Asia                 </td><td>   742                          </td><td>28.53                           </td><td> 6.90                           </td><td>2.32                            </td><td>67                              </td><td> 44.6                           </td><td> 65.58                          </td><td>  NA                            </td><td> 5570                           </td><td>88.3                            </td><td>91.5                            </td></tr>\n",
       "\t<tr><td>Bolivia (Plurinational State of)</td><td>Americas                        </td><td> 10496                          </td><td>35.23                           </td><td> 7.28                           </td><td>3.31                            </td><td>67                              </td><td> 41.4                           </td><td> 82.82                          </td><td>  NA                            </td><td> 4890                           </td><td>91.2                            </td><td>91.5                            </td></tr>\n",
       "\t<tr><td>Bosnia and Herzegovina          </td><td>Europe                          </td><td>  3834                          </td><td>16.35                           </td><td>20.52                           </td><td>1.26                            </td><td>76                              </td><td>  6.7                           </td><td> 84.52                          </td><td>97.9                            </td><td> 9190                           </td><td>86.5                            </td><td>88.4                            </td></tr>\n",
       "\t<tr><td>Botswana                        </td><td>Africa                          </td><td>  2004                          </td><td>33.75                           </td><td> 5.63                           </td><td>2.71                            </td><td>66                              </td><td> 53.3                           </td><td>142.82                          </td><td>84.5                            </td><td>14550                           </td><td>  NA                            </td><td>  NA                            </td></tr>\n",
       "\t<tr><td>Brazil                          </td><td>Americas                        </td><td>199000                          </td><td>24.56                           </td><td>10.81                           </td><td>1.82                            </td><td>74                              </td><td> 14.4                           </td><td>124.26                          </td><td>  NA                            </td><td>11420                           </td><td>  NA                            </td><td>  NA                            </td></tr>\n",
       "\t<tr><td>Brunei Darussalam               </td><td>Western Pacific                 </td><td>   412                          </td><td>25.75                           </td><td> 7.03                           </td><td>2.03                            </td><td>77                              </td><td>  8.0                           </td><td>109.17                          </td><td>95.2                            </td><td>   NA                           </td><td>  NA                            </td><td>  NA                            </td></tr>\n",
       "\t<tr><td>Bulgaria                        </td><td>Europe                          </td><td>  7278                          </td><td>13.53                           </td><td>26.11                           </td><td>1.51                            </td><td>74                              </td><td> 12.1                           </td><td>140.68                          </td><td>  NA                            </td><td>14160                           </td><td>99.3                            </td><td>99.7                            </td></tr>\n",
       "\t<tr><td>Burkina Faso                    </td><td>Africa                          </td><td> 16460                          </td><td>45.66                           </td><td> 3.88                           </td><td>5.78                            </td><td>56                              </td><td>102.4                           </td><td> 45.27                          </td><td>  NA                            </td><td> 1300                           </td><td>60.7                            </td><td>55.9                            </td></tr>\n",
       "\t<tr><td>Burundi                         </td><td>Africa                          </td><td>  9850                          </td><td>44.20                           </td><td> 3.87                           </td><td>6.21                            </td><td>53                              </td><td>104.3                           </td><td> 22.33                          </td><td>67.2                            </td><td>  610                           </td><td>  NA                            </td><td>  NA                            </td></tr>\n",
       "\t<tr><td>Cambodia                        </td><td>Western Pacific                 </td><td> 14865                          </td><td>31.23                           </td><td> 7.67                           </td><td>2.93                            </td><td>65                              </td><td> 39.7                           </td><td> 96.17                          </td><td>  NA                            </td><td> 2230                           </td><td>96.4                            </td><td>95.4                            </td></tr>\n",
       "\t<tr><td>Cameroon                        </td><td>Africa                          </td><td> 21700                          </td><td>43.08                           </td><td> 4.89                           </td><td>4.94                            </td><td>53                              </td><td> 94.9                           </td><td> 52.35                          </td><td>  NA                            </td><td> 2330                           </td><td>99.6                            </td><td>87.4                            </td></tr>\n",
       "\t<tr><td>⋮</td><td>⋮</td><td>⋮</td><td>⋮</td><td>⋮</td><td>⋮</td><td>⋮</td><td>⋮</td><td>⋮</td><td>⋮</td><td>⋮</td><td>⋮</td><td>⋮</td></tr>\n",
       "\t<tr><td>Suriname                                 </td><td>Americas                                 </td><td>   535                                   </td><td>27.83                                    </td><td> 9.55                                    </td><td>2.32                                     </td><td>72                                       </td><td>20.8                                     </td><td>178.88                                   </td><td>94.7                                     </td><td>   NA                                    </td><td>  NA                                     </td><td>  NA                                     </td></tr>\n",
       "\t<tr><td>Swaziland                                </td><td>Africa                                   </td><td>  1231                                   </td><td>38.05                                    </td><td> 5.34                                    </td><td>3.48                                     </td><td>50                                       </td><td>79.7                                     </td><td> 63.70                                   </td><td>87.4                                     </td><td> 5930                                    </td><td>  NA                                     </td><td>  NA                                     </td></tr>\n",
       "\t<tr><td>Sweden                                   </td><td>Europe                                   </td><td>  9511                                   </td><td>16.71                                    </td><td>25.32                                    </td><td>1.93                                     </td><td>82                                       </td><td> 2.9                                     </td><td>118.57                                   </td><td>  NA                                     </td><td>42200                                    </td><td>99.7                                     </td><td>99.0                                     </td></tr>\n",
       "\t<tr><td>Switzerland                              </td><td>Europe                                   </td><td>  7997                                   </td><td>14.79                                    </td><td>23.25                                    </td><td>1.51                                     </td><td>83                                       </td><td> 4.3                                     </td><td>131.43                                   </td><td>  NA                                     </td><td>52570                                    </td><td>98.9                                     </td><td>99.5                                     </td></tr>\n",
       "\t<tr><td>Syrian Arab Republic                     </td><td>Eastern Mediterranean                    </td><td> 21890                                   </td><td>35.35                                    </td><td> 6.09                                    </td><td>3.04                                     </td><td>75                                       </td><td>15.1                                     </td><td> 63.17                                   </td><td>83.4                                     </td><td>   NA                                    </td><td>  NA                                     </td><td>  NA                                     </td></tr>\n",
       "\t<tr><td>Tajikistan                               </td><td>Europe                                   </td><td>  8009                                   </td><td>35.75                                    </td><td> 4.80                                    </td><td>3.81                                     </td><td>68                                       </td><td>58.3                                     </td><td> 90.64                                   </td><td>99.7                                     </td><td> 2300                                    </td><td>99.5                                     </td><td>96.0                                     </td></tr>\n",
       "\t<tr><td>Thailand                                 </td><td>South-East Asia                          </td><td> 66785                                   </td><td>18.47                                    </td><td>13.96                                    </td><td>1.43                                     </td><td>74                                       </td><td>13.2                                     </td><td>111.63                                   </td><td>  NA                                     </td><td> 8360                                    </td><td>  NA                                     </td><td>  NA                                     </td></tr>\n",
       "\t<tr><td>The former Yugoslav Republic of Macedonia</td><td>Europe                                   </td><td>  2106                                   </td><td>16.89                                    </td><td>17.56                                    </td><td>1.44                                     </td><td>75                                       </td><td> 7.4                                     </td><td>107.24                                   </td><td>97.3                                     </td><td>11090                                    </td><td>97.3                                     </td><td>99.2                                     </td></tr>\n",
       "\t<tr><td>Timor-Leste                              </td><td>South-East Asia                          </td><td>  1114                                   </td><td>46.33                                    </td><td> 5.16                                    </td><td>6.11                                     </td><td>64                                       </td><td>56.7                                     </td><td> 53.23                                   </td><td>58.3                                     </td><td>   NA                                    </td><td>86.2                                     </td><td>85.6                                     </td></tr>\n",
       "\t<tr><td>Togo                                     </td><td>Africa                                   </td><td>  6643                                   </td><td>41.89                                    </td><td> 4.44                                    </td><td>4.75                                     </td><td>56                                       </td><td>95.5                                     </td><td> 50.45                                   </td><td>  NA                                     </td><td> 1040                                    </td><td>  NA                                     </td><td>  NA                                     </td></tr>\n",
       "\t<tr><td>Tonga                                    </td><td>Western Pacific                          </td><td>   105                                   </td><td>37.33                                    </td><td> 7.96                                    </td><td>3.86                                     </td><td>72                                       </td><td>12.8                                     </td><td> 52.63                                   </td><td>  NA                                     </td><td> 5000                                    </td><td>  NA                                     </td><td>  NA                                     </td></tr>\n",
       "\t<tr><td>Trinidad and Tobago                      </td><td>Americas                                 </td><td>  1337                                   </td><td>20.73                                    </td><td>13.18                                    </td><td>1.80                                     </td><td>71                                       </td><td>20.7                                     </td><td>135.64                                   </td><td>98.8                                     </td><td>   NA                                    </td><td>97.7                                     </td><td>97.0                                     </td></tr>\n",
       "\t<tr><td>Tunisia                                  </td><td>Eastern Mediterranean                    </td><td> 10875                                   </td><td>23.22                                    </td><td>10.49                                    </td><td>2.04                                     </td><td>76                                       </td><td>16.1                                     </td><td>116.93                                   </td><td>  NA                                     </td><td> 9030                                    </td><td>  NA                                     </td><td>  NA                                     </td></tr>\n",
       "\t<tr><td>Turkey                                   </td><td>Europe                                   </td><td> 73997                                   </td><td>26.00                                    </td><td>10.56                                    </td><td>2.08                                     </td><td>76                                       </td><td>14.2                                     </td><td> 88.70                                   </td><td>  NA                                     </td><td>16940                                    </td><td>99.5                                     </td><td>98.3                                     </td></tr>\n",
       "\t<tr><td>Turkmenistan                             </td><td>Europe                                   </td><td>  5173                                   </td><td>28.65                                    </td><td> 6.30                                    </td><td>2.38                                     </td><td>63                                       </td><td>52.8                                     </td><td> 68.77                                   </td><td>99.6                                     </td><td> 8690                                    </td><td>  NA                                     </td><td>  NA                                     </td></tr>\n",
       "\t<tr><td>Tuvalu                                   </td><td>Western Pacific                          </td><td>    10                                   </td><td>30.61                                    </td><td> 9.07                                    </td><td>  NA                                     </td><td>64                                       </td><td>29.7                                     </td><td> 21.63                                   </td><td>  NA                                     </td><td>   NA                                    </td><td>  NA                                     </td><td>  NA                                     </td></tr>\n",
       "\t<tr><td>Uganda                                   </td><td>Africa                                   </td><td> 36346                                   </td><td>48.54                                    </td><td> 3.72                                    </td><td>6.06                                     </td><td>56                                       </td><td>68.9                                     </td><td> 48.38                                   </td><td>73.2                                     </td><td> 1310                                    </td><td>89.7                                     </td><td>92.3                                     </td></tr>\n",
       "\t<tr><td>Ukraine                                  </td><td>Europe                                   </td><td> 45530                                   </td><td>14.18                                    </td><td>20.76                                    </td><td>1.45                                     </td><td>71                                       </td><td>10.7                                     </td><td>122.98                                   </td><td>99.7                                     </td><td> 7040                                    </td><td>90.8                                     </td><td>91.5                                     </td></tr>\n",
       "\t<tr><td>United Arab Emirates                     </td><td>Eastern Mediterranean                    </td><td>  9206                                   </td><td>14.41                                    </td><td> 0.81                                    </td><td>1.84                                     </td><td>76                                       </td><td> 8.4                                     </td><td>148.62                                   </td><td>  NA                                     </td><td>47890                                    </td><td>  NA                                     </td><td>  NA                                     </td></tr>\n",
       "\t<tr><td>United Kingdom                           </td><td>Europe                                   </td><td> 62783                                   </td><td>17.54                                    </td><td>23.06                                    </td><td>1.90                                     </td><td>80                                       </td><td> 4.8                                     </td><td>130.75                                   </td><td>  NA                                     </td><td>36010                                    </td><td>99.8                                     </td><td>99.6                                     </td></tr>\n",
       "\t<tr><td>United Republic of Tanzania              </td><td>Africa                                   </td><td> 47783                                   </td><td>44.85                                    </td><td> 4.89                                    </td><td>5.36                                     </td><td>59                                       </td><td>54.0                                     </td><td> 55.53                                   </td><td>73.2                                     </td><td> 1500                                    </td><td>  NA                                     </td><td>  NA                                     </td></tr>\n",
       "\t<tr><td>United States of America                 </td><td>Americas                                 </td><td>318000                                   </td><td>19.63                                    </td><td>19.31                                    </td><td>2.00                                     </td><td>79                                       </td><td> 7.1                                     </td><td> 92.72                                   </td><td>  NA                                     </td><td>48820                                    </td><td>95.4                                     </td><td>96.1                                     </td></tr>\n",
       "\t<tr><td>Uruguay                                  </td><td>Americas                                 </td><td>  3395                                   </td><td>22.05                                    </td><td>18.59                                    </td><td>2.07                                     </td><td>77                                       </td><td> 7.2                                     </td><td>140.75                                   </td><td>98.1                                     </td><td>14640                                    </td><td>  NA                                     </td><td>  NA                                     </td></tr>\n",
       "\t<tr><td>Uzbekistan                               </td><td>Europe                                   </td><td> 28541                                   </td><td>28.90                                    </td><td> 6.38                                    </td><td>2.38                                     </td><td>68                                       </td><td>39.6                                     </td><td> 91.65                                   </td><td>99.4                                     </td><td> 3420                                    </td><td>93.3                                     </td><td>91.0                                     </td></tr>\n",
       "\t<tr><td>Vanuatu                                  </td><td>Western Pacific                          </td><td>   247                                   </td><td>37.37                                    </td><td> 6.02                                    </td><td>3.46                                     </td><td>72                                       </td><td>17.9                                     </td><td> 55.76                                   </td><td>82.6                                     </td><td> 4330                                    </td><td>  NA                                     </td><td>  NA                                     </td></tr>\n",
       "\t<tr><td>Venezuela (Bolivarian Republic of)       </td><td>Americas                                 </td><td> 29955                                   </td><td>28.84                                    </td><td> 9.17                                    </td><td>2.44                                     </td><td>75                                       </td><td>15.3                                     </td><td> 97.78                                   </td><td>  NA                                     </td><td>12430                                    </td><td>94.7                                     </td><td>95.1                                     </td></tr>\n",
       "\t<tr><td>Viet Nam                                 </td><td>Western Pacific                          </td><td> 90796                                   </td><td>22.87                                    </td><td> 9.32                                    </td><td>1.79                                     </td><td>75                                       </td><td>23.0                                     </td><td>143.39                                   </td><td>93.2                                     </td><td> 3250                                    </td><td>  NA                                     </td><td>  NA                                     </td></tr>\n",
       "\t<tr><td>Yemen                                    </td><td>Eastern Mediterranean                    </td><td> 23852                                   </td><td>40.72                                    </td><td> 4.54                                    </td><td>4.35                                     </td><td>64                                       </td><td>60.0                                     </td><td> 47.05                                   </td><td>63.9                                     </td><td> 2170                                    </td><td>85.5                                     </td><td>70.5                                     </td></tr>\n",
       "\t<tr><td>Zambia                                   </td><td>Africa                                   </td><td> 14075                                   </td><td>46.73                                    </td><td> 3.95                                    </td><td>5.77                                     </td><td>55                                       </td><td>88.5                                     </td><td> 60.59                                   </td><td>71.2                                     </td><td> 1490                                    </td><td>91.4                                     </td><td>93.9                                     </td></tr>\n",
       "\t<tr><td>Zimbabwe                                 </td><td>Africa                                   </td><td> 13724                                   </td><td>40.24                                    </td><td> 5.68                                    </td><td>3.64                                     </td><td>54                                       </td><td>89.8                                     </td><td> 72.13                                   </td><td>92.2                                     </td><td>   NA                                    </td><td>  NA                                     </td><td>  NA                                     </td></tr>\n",
       "</tbody>\n",
       "</table>\n"
      ],
      "text/latex": [
       "\\begin{tabular}{r|lllllllllllll}\n",
       " Country & Region & Population & Under15 & Over60 & FertilityRate & LifeExpectancy & ChildMortality & CellularSubscribers & LiteracyRate & GNI & PrimarySchoolEnrollmentMale & PrimarySchoolEnrollmentFemale\\\\\n",
       "\\hline\n",
       "\t Afghanistan                      & Eastern Mediterranean            &  29825                           & 47.42                            &  3.82                            & 5.40                             & 60                               &  98.5                            &  54.26                           &   NA                             &  1140                            &   NA                             &   NA                            \\\\\n",
       "\t Albania                          & Europe                           &   3162                           & 21.33                            & 14.93                            & 1.75                             & 74                               &  16.7                            &  96.39                           &   NA                             &  8820                            &   NA                             &   NA                            \\\\\n",
       "\t Algeria                          & Africa                           &  38482                           & 27.42                            &  7.17                            & 2.83                             & 73                               &  20.0                            &  98.99                           &   NA                             &  8310                            & 98.2                             & 96.4                            \\\\\n",
       "\t Andorra                          & Europe                           &     78                           & 15.20                            & 22.86                            &   NA                             & 82                               &   3.2                            &  75.49                           &   NA                             &    NA                            & 78.4                             & 79.4                            \\\\\n",
       "\t Angola                           & Africa                           &  20821                           & 47.58                            &  3.84                            & 6.10                             & 51                               & 163.5                            &  48.38                           & 70.1                             &  5230                            & 93.1                             & 78.2                            \\\\\n",
       "\t Antigua and Barbuda              & Americas                         &     89                           & 25.96                            & 12.35                            & 2.12                             & 75                               &   9.9                            & 196.41                           & 99.0                             & 17900                            & 91.1                             & 84.5                            \\\\\n",
       "\t Argentina                        & Americas                         &  41087                           & 24.42                            & 14.97                            & 2.20                             & 76                               &  14.2                            & 134.92                           & 97.8                             & 17130                            &   NA                             &   NA                            \\\\\n",
       "\t Armenia                          & Europe                           &   2969                           & 20.34                            & 14.06                            & 1.74                             & 71                               &  16.4                            & 103.57                           & 99.6                             &  6100                            &   NA                             &   NA                            \\\\\n",
       "\t Australia                        & Western Pacific                  &  23050                           & 18.95                            & 19.46                            & 1.89                             & 82                               &   4.9                            & 108.34                           &   NA                             & 38110                            & 96.9                             & 97.5                            \\\\\n",
       "\t Austria                          & Europe                           &   8464                           & 14.51                            & 23.52                            & 1.44                             & 81                               &   4.0                            & 154.78                           &   NA                             & 42050                            &   NA                             &   NA                            \\\\\n",
       "\t Azerbaijan                       & Europe                           &   9309                           & 22.25                            &  8.24                            & 1.96                             & 71                               &  35.2                            & 108.75                           &   NA                             &  8960                            & 85.3                             & 84.1                            \\\\\n",
       "\t Bahamas                          & Americas                         &    372                           & 21.62                            & 11.24                            & 1.90                             & 75                               &  16.9                            &  86.06                           &   NA                             &    NA                            &   NA                             &   NA                            \\\\\n",
       "\t Bahrain                          & Eastern Mediterranean            &   1318                           & 20.16                            &  3.38                            & 2.12                             & 79                               &   9.6                            & 127.96                           & 91.9                             &    NA                            &   NA                             &   NA                            \\\\\n",
       "\t Bangladesh                       & South-East Asia                  & 155000                           & 30.57                            &  6.89                            & 2.24                             & 70                               &  40.9                            &  56.06                           & 56.8                             &  1940                            &   NA                             &   NA                            \\\\\n",
       "\t Barbados                         & Americas                         &    283                           & 18.99                            & 15.78                            & 1.84                             & 78                               &  18.4                            & 127.01                           &   NA                             &    NA                            &   NA                             &   NA                            \\\\\n",
       "\t Belarus                          & Europe                           &   9405                           & 15.10                            & 19.31                            & 1.47                             & 71                               &   5.2                            & 111.88                           &   NA                             & 14460                            &   NA                             &   NA                            \\\\\n",
       "\t Belgium                          & Europe                           &  11060                           & 16.88                            & 23.81                            & 1.85                             & 80                               &   4.2                            & 116.61                           &   NA                             & 39190                            & 98.9                             & 99.2                            \\\\\n",
       "\t Belize                           & Americas                         &    324                           & 34.40                            &  5.74                            & 2.76                             & 74                               &  18.3                            &  69.96                           &   NA                             &  6090                            &   NA                             &   NA                            \\\\\n",
       "\t Benin                            & Africa                           &  10051                           & 42.95                            &  4.54                            & 5.01                             & 57                               &  89.5                            &  85.33                           & 42.4                             &  1620                            &   NA                             &   NA                            \\\\\n",
       "\t Bhutan                           & South-East Asia                  &    742                           & 28.53                            &  6.90                            & 2.32                             & 67                               &  44.6                            &  65.58                           &   NA                             &  5570                            & 88.3                             & 91.5                            \\\\\n",
       "\t Bolivia (Plurinational State of) & Americas                         &  10496                           & 35.23                            &  7.28                            & 3.31                             & 67                               &  41.4                            &  82.82                           &   NA                             &  4890                            & 91.2                             & 91.5                            \\\\\n",
       "\t Bosnia and Herzegovina           & Europe                           &   3834                           & 16.35                            & 20.52                            & 1.26                             & 76                               &   6.7                            &  84.52                           & 97.9                             &  9190                            & 86.5                             & 88.4                            \\\\\n",
       "\t Botswana                         & Africa                           &   2004                           & 33.75                            &  5.63                            & 2.71                             & 66                               &  53.3                            & 142.82                           & 84.5                             & 14550                            &   NA                             &   NA                            \\\\\n",
       "\t Brazil                           & Americas                         & 199000                           & 24.56                            & 10.81                            & 1.82                             & 74                               &  14.4                            & 124.26                           &   NA                             & 11420                            &   NA                             &   NA                            \\\\\n",
       "\t Brunei Darussalam                & Western Pacific                  &    412                           & 25.75                            &  7.03                            & 2.03                             & 77                               &   8.0                            & 109.17                           & 95.2                             &    NA                            &   NA                             &   NA                            \\\\\n",
       "\t Bulgaria                         & Europe                           &   7278                           & 13.53                            & 26.11                            & 1.51                             & 74                               &  12.1                            & 140.68                           &   NA                             & 14160                            & 99.3                             & 99.7                            \\\\\n",
       "\t Burkina Faso                     & Africa                           &  16460                           & 45.66                            &  3.88                            & 5.78                             & 56                               & 102.4                            &  45.27                           &   NA                             &  1300                            & 60.7                             & 55.9                            \\\\\n",
       "\t Burundi                          & Africa                           &   9850                           & 44.20                            &  3.87                            & 6.21                             & 53                               & 104.3                            &  22.33                           & 67.2                             &   610                            &   NA                             &   NA                            \\\\\n",
       "\t Cambodia                         & Western Pacific                  &  14865                           & 31.23                            &  7.67                            & 2.93                             & 65                               &  39.7                            &  96.17                           &   NA                             &  2230                            & 96.4                             & 95.4                            \\\\\n",
       "\t Cameroon                         & Africa                           &  21700                           & 43.08                            &  4.89                            & 4.94                             & 53                               &  94.9                            &  52.35                           &   NA                             &  2330                            & 99.6                             & 87.4                            \\\\\n",
       "\t ⋮ & ⋮ & ⋮ & ⋮ & ⋮ & ⋮ & ⋮ & ⋮ & ⋮ & ⋮ & ⋮ & ⋮ & ⋮\\\\\n",
       "\t Suriname                                  & Americas                                  &    535                                    & 27.83                                     &  9.55                                     & 2.32                                      & 72                                        & 20.8                                      & 178.88                                    & 94.7                                      &    NA                                     &   NA                                      &   NA                                     \\\\\n",
       "\t Swaziland                                 & Africa                                    &   1231                                    & 38.05                                     &  5.34                                     & 3.48                                      & 50                                        & 79.7                                      &  63.70                                    & 87.4                                      &  5930                                     &   NA                                      &   NA                                     \\\\\n",
       "\t Sweden                                    & Europe                                    &   9511                                    & 16.71                                     & 25.32                                     & 1.93                                      & 82                                        &  2.9                                      & 118.57                                    &   NA                                      & 42200                                     & 99.7                                      & 99.0                                     \\\\\n",
       "\t Switzerland                               & Europe                                    &   7997                                    & 14.79                                     & 23.25                                     & 1.51                                      & 83                                        &  4.3                                      & 131.43                                    &   NA                                      & 52570                                     & 98.9                                      & 99.5                                     \\\\\n",
       "\t Syrian Arab Republic                      & Eastern Mediterranean                     &  21890                                    & 35.35                                     &  6.09                                     & 3.04                                      & 75                                        & 15.1                                      &  63.17                                    & 83.4                                      &    NA                                     &   NA                                      &   NA                                     \\\\\n",
       "\t Tajikistan                                & Europe                                    &   8009                                    & 35.75                                     &  4.80                                     & 3.81                                      & 68                                        & 58.3                                      &  90.64                                    & 99.7                                      &  2300                                     & 99.5                                      & 96.0                                     \\\\\n",
       "\t Thailand                                  & South-East Asia                           &  66785                                    & 18.47                                     & 13.96                                     & 1.43                                      & 74                                        & 13.2                                      & 111.63                                    &   NA                                      &  8360                                     &   NA                                      &   NA                                     \\\\\n",
       "\t The former Yugoslav Republic of Macedonia & Europe                                    &   2106                                    & 16.89                                     & 17.56                                     & 1.44                                      & 75                                        &  7.4                                      & 107.24                                    & 97.3                                      & 11090                                     & 97.3                                      & 99.2                                     \\\\\n",
       "\t Timor-Leste                               & South-East Asia                           &   1114                                    & 46.33                                     &  5.16                                     & 6.11                                      & 64                                        & 56.7                                      &  53.23                                    & 58.3                                      &    NA                                     & 86.2                                      & 85.6                                     \\\\\n",
       "\t Togo                                      & Africa                                    &   6643                                    & 41.89                                     &  4.44                                     & 4.75                                      & 56                                        & 95.5                                      &  50.45                                    &   NA                                      &  1040                                     &   NA                                      &   NA                                     \\\\\n",
       "\t Tonga                                     & Western Pacific                           &    105                                    & 37.33                                     &  7.96                                     & 3.86                                      & 72                                        & 12.8                                      &  52.63                                    &   NA                                      &  5000                                     &   NA                                      &   NA                                     \\\\\n",
       "\t Trinidad and Tobago                       & Americas                                  &   1337                                    & 20.73                                     & 13.18                                     & 1.80                                      & 71                                        & 20.7                                      & 135.64                                    & 98.8                                      &    NA                                     & 97.7                                      & 97.0                                     \\\\\n",
       "\t Tunisia                                   & Eastern Mediterranean                     &  10875                                    & 23.22                                     & 10.49                                     & 2.04                                      & 76                                        & 16.1                                      & 116.93                                    &   NA                                      &  9030                                     &   NA                                      &   NA                                     \\\\\n",
       "\t Turkey                                    & Europe                                    &  73997                                    & 26.00                                     & 10.56                                     & 2.08                                      & 76                                        & 14.2                                      &  88.70                                    &   NA                                      & 16940                                     & 99.5                                      & 98.3                                     \\\\\n",
       "\t Turkmenistan                              & Europe                                    &   5173                                    & 28.65                                     &  6.30                                     & 2.38                                      & 63                                        & 52.8                                      &  68.77                                    & 99.6                                      &  8690                                     &   NA                                      &   NA                                     \\\\\n",
       "\t Tuvalu                                    & Western Pacific                           &     10                                    & 30.61                                     &  9.07                                     &   NA                                      & 64                                        & 29.7                                      &  21.63                                    &   NA                                      &    NA                                     &   NA                                      &   NA                                     \\\\\n",
       "\t Uganda                                    & Africa                                    &  36346                                    & 48.54                                     &  3.72                                     & 6.06                                      & 56                                        & 68.9                                      &  48.38                                    & 73.2                                      &  1310                                     & 89.7                                      & 92.3                                     \\\\\n",
       "\t Ukraine                                   & Europe                                    &  45530                                    & 14.18                                     & 20.76                                     & 1.45                                      & 71                                        & 10.7                                      & 122.98                                    & 99.7                                      &  7040                                     & 90.8                                      & 91.5                                     \\\\\n",
       "\t United Arab Emirates                      & Eastern Mediterranean                     &   9206                                    & 14.41                                     &  0.81                                     & 1.84                                      & 76                                        &  8.4                                      & 148.62                                    &   NA                                      & 47890                                     &   NA                                      &   NA                                     \\\\\n",
       "\t United Kingdom                            & Europe                                    &  62783                                    & 17.54                                     & 23.06                                     & 1.90                                      & 80                                        &  4.8                                      & 130.75                                    &   NA                                      & 36010                                     & 99.8                                      & 99.6                                     \\\\\n",
       "\t United Republic of Tanzania               & Africa                                    &  47783                                    & 44.85                                     &  4.89                                     & 5.36                                      & 59                                        & 54.0                                      &  55.53                                    & 73.2                                      &  1500                                     &   NA                                      &   NA                                     \\\\\n",
       "\t United States of America                  & Americas                                  & 318000                                    & 19.63                                     & 19.31                                     & 2.00                                      & 79                                        &  7.1                                      &  92.72                                    &   NA                                      & 48820                                     & 95.4                                      & 96.1                                     \\\\\n",
       "\t Uruguay                                   & Americas                                  &   3395                                    & 22.05                                     & 18.59                                     & 2.07                                      & 77                                        &  7.2                                      & 140.75                                    & 98.1                                      & 14640                                     &   NA                                      &   NA                                     \\\\\n",
       "\t Uzbekistan                                & Europe                                    &  28541                                    & 28.90                                     &  6.38                                     & 2.38                                      & 68                                        & 39.6                                      &  91.65                                    & 99.4                                      &  3420                                     & 93.3                                      & 91.0                                     \\\\\n",
       "\t Vanuatu                                   & Western Pacific                           &    247                                    & 37.37                                     &  6.02                                     & 3.46                                      & 72                                        & 17.9                                      &  55.76                                    & 82.6                                      &  4330                                     &   NA                                      &   NA                                     \\\\\n",
       "\t Venezuela (Bolivarian Republic of)        & Americas                                  &  29955                                    & 28.84                                     &  9.17                                     & 2.44                                      & 75                                        & 15.3                                      &  97.78                                    &   NA                                      & 12430                                     & 94.7                                      & 95.1                                     \\\\\n",
       "\t Viet Nam                                  & Western Pacific                           &  90796                                    & 22.87                                     &  9.32                                     & 1.79                                      & 75                                        & 23.0                                      & 143.39                                    & 93.2                                      &  3250                                     &   NA                                      &   NA                                     \\\\\n",
       "\t Yemen                                     & Eastern Mediterranean                     &  23852                                    & 40.72                                     &  4.54                                     & 4.35                                      & 64                                        & 60.0                                      &  47.05                                    & 63.9                                      &  2170                                     & 85.5                                      & 70.5                                     \\\\\n",
       "\t Zambia                                    & Africa                                    &  14075                                    & 46.73                                     &  3.95                                     & 5.77                                      & 55                                        & 88.5                                      &  60.59                                    & 71.2                                      &  1490                                     & 91.4                                      & 93.9                                     \\\\\n",
       "\t Zimbabwe                                  & Africa                                    &  13724                                    & 40.24                                     &  5.68                                     & 3.64                                      & 54                                        & 89.8                                      &  72.13                                    & 92.2                                      &    NA                                     &   NA                                      &   NA                                     \\\\\n",
       "\\end{tabular}\n"
      ],
      "text/markdown": [
       "\n",
       "Country | Region | Population | Under15 | Over60 | FertilityRate | LifeExpectancy | ChildMortality | CellularSubscribers | LiteracyRate | GNI | PrimarySchoolEnrollmentMale | PrimarySchoolEnrollmentFemale | \n",
       "|---|---|---|---|---|---|---|---|---|---|---|---|---|---|---|---|---|---|---|---|---|---|---|---|---|---|---|---|---|---|---|---|---|---|---|---|---|---|---|---|---|---|---|---|---|---|---|---|---|---|---|---|---|---|---|---|---|---|---|---|---|\n",
       "| Afghanistan                      | Eastern Mediterranean            |  29825                           | 47.42                            |  3.82                            | 5.40                             | 60                               |  98.5                            |  54.26                           |   NA                             |  1140                            |   NA                             |   NA                             | \n",
       "| Albania                          | Europe                           |   3162                           | 21.33                            | 14.93                            | 1.75                             | 74                               |  16.7                            |  96.39                           |   NA                             |  8820                            |   NA                             |   NA                             | \n",
       "| Algeria                          | Africa                           |  38482                           | 27.42                            |  7.17                            | 2.83                             | 73                               |  20.0                            |  98.99                           |   NA                             |  8310                            | 98.2                             | 96.4                             | \n",
       "| Andorra                          | Europe                           |     78                           | 15.20                            | 22.86                            |   NA                             | 82                               |   3.2                            |  75.49                           |   NA                             |    NA                            | 78.4                             | 79.4                             | \n",
       "| Angola                           | Africa                           |  20821                           | 47.58                            |  3.84                            | 6.10                             | 51                               | 163.5                            |  48.38                           | 70.1                             |  5230                            | 93.1                             | 78.2                             | \n",
       "| Antigua and Barbuda              | Americas                         |     89                           | 25.96                            | 12.35                            | 2.12                             | 75                               |   9.9                            | 196.41                           | 99.0                             | 17900                            | 91.1                             | 84.5                             | \n",
       "| Argentina                        | Americas                         |  41087                           | 24.42                            | 14.97                            | 2.20                             | 76                               |  14.2                            | 134.92                           | 97.8                             | 17130                            |   NA                             |   NA                             | \n",
       "| Armenia                          | Europe                           |   2969                           | 20.34                            | 14.06                            | 1.74                             | 71                               |  16.4                            | 103.57                           | 99.6                             |  6100                            |   NA                             |   NA                             | \n",
       "| Australia                        | Western Pacific                  |  23050                           | 18.95                            | 19.46                            | 1.89                             | 82                               |   4.9                            | 108.34                           |   NA                             | 38110                            | 96.9                             | 97.5                             | \n",
       "| Austria                          | Europe                           |   8464                           | 14.51                            | 23.52                            | 1.44                             | 81                               |   4.0                            | 154.78                           |   NA                             | 42050                            |   NA                             |   NA                             | \n",
       "| Azerbaijan                       | Europe                           |   9309                           | 22.25                            |  8.24                            | 1.96                             | 71                               |  35.2                            | 108.75                           |   NA                             |  8960                            | 85.3                             | 84.1                             | \n",
       "| Bahamas                          | Americas                         |    372                           | 21.62                            | 11.24                            | 1.90                             | 75                               |  16.9                            |  86.06                           |   NA                             |    NA                            |   NA                             |   NA                             | \n",
       "| Bahrain                          | Eastern Mediterranean            |   1318                           | 20.16                            |  3.38                            | 2.12                             | 79                               |   9.6                            | 127.96                           | 91.9                             |    NA                            |   NA                             |   NA                             | \n",
       "| Bangladesh                       | South-East Asia                  | 155000                           | 30.57                            |  6.89                            | 2.24                             | 70                               |  40.9                            |  56.06                           | 56.8                             |  1940                            |   NA                             |   NA                             | \n",
       "| Barbados                         | Americas                         |    283                           | 18.99                            | 15.78                            | 1.84                             | 78                               |  18.4                            | 127.01                           |   NA                             |    NA                            |   NA                             |   NA                             | \n",
       "| Belarus                          | Europe                           |   9405                           | 15.10                            | 19.31                            | 1.47                             | 71                               |   5.2                            | 111.88                           |   NA                             | 14460                            |   NA                             |   NA                             | \n",
       "| Belgium                          | Europe                           |  11060                           | 16.88                            | 23.81                            | 1.85                             | 80                               |   4.2                            | 116.61                           |   NA                             | 39190                            | 98.9                             | 99.2                             | \n",
       "| Belize                           | Americas                         |    324                           | 34.40                            |  5.74                            | 2.76                             | 74                               |  18.3                            |  69.96                           |   NA                             |  6090                            |   NA                             |   NA                             | \n",
       "| Benin                            | Africa                           |  10051                           | 42.95                            |  4.54                            | 5.01                             | 57                               |  89.5                            |  85.33                           | 42.4                             |  1620                            |   NA                             |   NA                             | \n",
       "| Bhutan                           | South-East Asia                  |    742                           | 28.53                            |  6.90                            | 2.32                             | 67                               |  44.6                            |  65.58                           |   NA                             |  5570                            | 88.3                             | 91.5                             | \n",
       "| Bolivia (Plurinational State of) | Americas                         |  10496                           | 35.23                            |  7.28                            | 3.31                             | 67                               |  41.4                            |  82.82                           |   NA                             |  4890                            | 91.2                             | 91.5                             | \n",
       "| Bosnia and Herzegovina           | Europe                           |   3834                           | 16.35                            | 20.52                            | 1.26                             | 76                               |   6.7                            |  84.52                           | 97.9                             |  9190                            | 86.5                             | 88.4                             | \n",
       "| Botswana                         | Africa                           |   2004                           | 33.75                            |  5.63                            | 2.71                             | 66                               |  53.3                            | 142.82                           | 84.5                             | 14550                            |   NA                             |   NA                             | \n",
       "| Brazil                           | Americas                         | 199000                           | 24.56                            | 10.81                            | 1.82                             | 74                               |  14.4                            | 124.26                           |   NA                             | 11420                            |   NA                             |   NA                             | \n",
       "| Brunei Darussalam                | Western Pacific                  |    412                           | 25.75                            |  7.03                            | 2.03                             | 77                               |   8.0                            | 109.17                           | 95.2                             |    NA                            |   NA                             |   NA                             | \n",
       "| Bulgaria                         | Europe                           |   7278                           | 13.53                            | 26.11                            | 1.51                             | 74                               |  12.1                            | 140.68                           |   NA                             | 14160                            | 99.3                             | 99.7                             | \n",
       "| Burkina Faso                     | Africa                           |  16460                           | 45.66                            |  3.88                            | 5.78                             | 56                               | 102.4                            |  45.27                           |   NA                             |  1300                            | 60.7                             | 55.9                             | \n",
       "| Burundi                          | Africa                           |   9850                           | 44.20                            |  3.87                            | 6.21                             | 53                               | 104.3                            |  22.33                           | 67.2                             |   610                            |   NA                             |   NA                             | \n",
       "| Cambodia                         | Western Pacific                  |  14865                           | 31.23                            |  7.67                            | 2.93                             | 65                               |  39.7                            |  96.17                           |   NA                             |  2230                            | 96.4                             | 95.4                             | \n",
       "| Cameroon                         | Africa                           |  21700                           | 43.08                            |  4.89                            | 4.94                             | 53                               |  94.9                            |  52.35                           |   NA                             |  2330                            | 99.6                             | 87.4                             | \n",
       "| ⋮ | ⋮ | ⋮ | ⋮ | ⋮ | ⋮ | ⋮ | ⋮ | ⋮ | ⋮ | ⋮ | ⋮ | ⋮ | \n",
       "| Suriname                                  | Americas                                  |    535                                    | 27.83                                     |  9.55                                     | 2.32                                      | 72                                        | 20.8                                      | 178.88                                    | 94.7                                      |    NA                                     |   NA                                      |   NA                                      | \n",
       "| Swaziland                                 | Africa                                    |   1231                                    | 38.05                                     |  5.34                                     | 3.48                                      | 50                                        | 79.7                                      |  63.70                                    | 87.4                                      |  5930                                     |   NA                                      |   NA                                      | \n",
       "| Sweden                                    | Europe                                    |   9511                                    | 16.71                                     | 25.32                                     | 1.93                                      | 82                                        |  2.9                                      | 118.57                                    |   NA                                      | 42200                                     | 99.7                                      | 99.0                                      | \n",
       "| Switzerland                               | Europe                                    |   7997                                    | 14.79                                     | 23.25                                     | 1.51                                      | 83                                        |  4.3                                      | 131.43                                    |   NA                                      | 52570                                     | 98.9                                      | 99.5                                      | \n",
       "| Syrian Arab Republic                      | Eastern Mediterranean                     |  21890                                    | 35.35                                     |  6.09                                     | 3.04                                      | 75                                        | 15.1                                      |  63.17                                    | 83.4                                      |    NA                                     |   NA                                      |   NA                                      | \n",
       "| Tajikistan                                | Europe                                    |   8009                                    | 35.75                                     |  4.80                                     | 3.81                                      | 68                                        | 58.3                                      |  90.64                                    | 99.7                                      |  2300                                     | 99.5                                      | 96.0                                      | \n",
       "| Thailand                                  | South-East Asia                           |  66785                                    | 18.47                                     | 13.96                                     | 1.43                                      | 74                                        | 13.2                                      | 111.63                                    |   NA                                      |  8360                                     |   NA                                      |   NA                                      | \n",
       "| The former Yugoslav Republic of Macedonia | Europe                                    |   2106                                    | 16.89                                     | 17.56                                     | 1.44                                      | 75                                        |  7.4                                      | 107.24                                    | 97.3                                      | 11090                                     | 97.3                                      | 99.2                                      | \n",
       "| Timor-Leste                               | South-East Asia                           |   1114                                    | 46.33                                     |  5.16                                     | 6.11                                      | 64                                        | 56.7                                      |  53.23                                    | 58.3                                      |    NA                                     | 86.2                                      | 85.6                                      | \n",
       "| Togo                                      | Africa                                    |   6643                                    | 41.89                                     |  4.44                                     | 4.75                                      | 56                                        | 95.5                                      |  50.45                                    |   NA                                      |  1040                                     |   NA                                      |   NA                                      | \n",
       "| Tonga                                     | Western Pacific                           |    105                                    | 37.33                                     |  7.96                                     | 3.86                                      | 72                                        | 12.8                                      |  52.63                                    |   NA                                      |  5000                                     |   NA                                      |   NA                                      | \n",
       "| Trinidad and Tobago                       | Americas                                  |   1337                                    | 20.73                                     | 13.18                                     | 1.80                                      | 71                                        | 20.7                                      | 135.64                                    | 98.8                                      |    NA                                     | 97.7                                      | 97.0                                      | \n",
       "| Tunisia                                   | Eastern Mediterranean                     |  10875                                    | 23.22                                     | 10.49                                     | 2.04                                      | 76                                        | 16.1                                      | 116.93                                    |   NA                                      |  9030                                     |   NA                                      |   NA                                      | \n",
       "| Turkey                                    | Europe                                    |  73997                                    | 26.00                                     | 10.56                                     | 2.08                                      | 76                                        | 14.2                                      |  88.70                                    |   NA                                      | 16940                                     | 99.5                                      | 98.3                                      | \n",
       "| Turkmenistan                              | Europe                                    |   5173                                    | 28.65                                     |  6.30                                     | 2.38                                      | 63                                        | 52.8                                      |  68.77                                    | 99.6                                      |  8690                                     |   NA                                      |   NA                                      | \n",
       "| Tuvalu                                    | Western Pacific                           |     10                                    | 30.61                                     |  9.07                                     |   NA                                      | 64                                        | 29.7                                      |  21.63                                    |   NA                                      |    NA                                     |   NA                                      |   NA                                      | \n",
       "| Uganda                                    | Africa                                    |  36346                                    | 48.54                                     |  3.72                                     | 6.06                                      | 56                                        | 68.9                                      |  48.38                                    | 73.2                                      |  1310                                     | 89.7                                      | 92.3                                      | \n",
       "| Ukraine                                   | Europe                                    |  45530                                    | 14.18                                     | 20.76                                     | 1.45                                      | 71                                        | 10.7                                      | 122.98                                    | 99.7                                      |  7040                                     | 90.8                                      | 91.5                                      | \n",
       "| United Arab Emirates                      | Eastern Mediterranean                     |   9206                                    | 14.41                                     |  0.81                                     | 1.84                                      | 76                                        |  8.4                                      | 148.62                                    |   NA                                      | 47890                                     |   NA                                      |   NA                                      | \n",
       "| United Kingdom                            | Europe                                    |  62783                                    | 17.54                                     | 23.06                                     | 1.90                                      | 80                                        |  4.8                                      | 130.75                                    |   NA                                      | 36010                                     | 99.8                                      | 99.6                                      | \n",
       "| United Republic of Tanzania               | Africa                                    |  47783                                    | 44.85                                     |  4.89                                     | 5.36                                      | 59                                        | 54.0                                      |  55.53                                    | 73.2                                      |  1500                                     |   NA                                      |   NA                                      | \n",
       "| United States of America                  | Americas                                  | 318000                                    | 19.63                                     | 19.31                                     | 2.00                                      | 79                                        |  7.1                                      |  92.72                                    |   NA                                      | 48820                                     | 95.4                                      | 96.1                                      | \n",
       "| Uruguay                                   | Americas                                  |   3395                                    | 22.05                                     | 18.59                                     | 2.07                                      | 77                                        |  7.2                                      | 140.75                                    | 98.1                                      | 14640                                     |   NA                                      |   NA                                      | \n",
       "| Uzbekistan                                | Europe                                    |  28541                                    | 28.90                                     |  6.38                                     | 2.38                                      | 68                                        | 39.6                                      |  91.65                                    | 99.4                                      |  3420                                     | 93.3                                      | 91.0                                      | \n",
       "| Vanuatu                                   | Western Pacific                           |    247                                    | 37.37                                     |  6.02                                     | 3.46                                      | 72                                        | 17.9                                      |  55.76                                    | 82.6                                      |  4330                                     |   NA                                      |   NA                                      | \n",
       "| Venezuela (Bolivarian Republic of)        | Americas                                  |  29955                                    | 28.84                                     |  9.17                                     | 2.44                                      | 75                                        | 15.3                                      |  97.78                                    |   NA                                      | 12430                                     | 94.7                                      | 95.1                                      | \n",
       "| Viet Nam                                  | Western Pacific                           |  90796                                    | 22.87                                     |  9.32                                     | 1.79                                      | 75                                        | 23.0                                      | 143.39                                    | 93.2                                      |  3250                                     |   NA                                      |   NA                                      | \n",
       "| Yemen                                     | Eastern Mediterranean                     |  23852                                    | 40.72                                     |  4.54                                     | 4.35                                      | 64                                        | 60.0                                      |  47.05                                    | 63.9                                      |  2170                                     | 85.5                                      | 70.5                                      | \n",
       "| Zambia                                    | Africa                                    |  14075                                    | 46.73                                     |  3.95                                     | 5.77                                      | 55                                        | 88.5                                      |  60.59                                    | 71.2                                      |  1490                                     | 91.4                                      | 93.9                                      | \n",
       "| Zimbabwe                                  | Africa                                    |  13724                                    | 40.24                                     |  5.68                                     | 3.64                                      | 54                                        | 89.8                                      |  72.13                                    | 92.2                                      |    NA                                     |   NA                                      |   NA                                      | \n",
       "\n",
       "\n"
      ],
      "text/plain": [
       "    Country                                   Region                Population\n",
       "1   Afghanistan                               Eastern Mediterranean  29825    \n",
       "2   Albania                                   Europe                  3162    \n",
       "3   Algeria                                   Africa                 38482    \n",
       "4   Andorra                                   Europe                    78    \n",
       "5   Angola                                    Africa                 20821    \n",
       "6   Antigua and Barbuda                       Americas                  89    \n",
       "7   Argentina                                 Americas               41087    \n",
       "8   Armenia                                   Europe                  2969    \n",
       "9   Australia                                 Western Pacific        23050    \n",
       "10  Austria                                   Europe                  8464    \n",
       "11  Azerbaijan                                Europe                  9309    \n",
       "12  Bahamas                                   Americas                 372    \n",
       "13  Bahrain                                   Eastern Mediterranean   1318    \n",
       "14  Bangladesh                                South-East Asia       155000    \n",
       "15  Barbados                                  Americas                 283    \n",
       "16  Belarus                                   Europe                  9405    \n",
       "17  Belgium                                   Europe                 11060    \n",
       "18  Belize                                    Americas                 324    \n",
       "19  Benin                                     Africa                 10051    \n",
       "20  Bhutan                                    South-East Asia          742    \n",
       "21  Bolivia (Plurinational State of)          Americas               10496    \n",
       "22  Bosnia and Herzegovina                    Europe                  3834    \n",
       "23  Botswana                                  Africa                  2004    \n",
       "24  Brazil                                    Americas              199000    \n",
       "25  Brunei Darussalam                         Western Pacific          412    \n",
       "26  Bulgaria                                  Europe                  7278    \n",
       "27  Burkina Faso                              Africa                 16460    \n",
       "28  Burundi                                   Africa                  9850    \n",
       "29  Cambodia                                  Western Pacific        14865    \n",
       "30  Cameroon                                  Africa                 21700    \n",
       "⋮   ⋮                                         ⋮                     ⋮         \n",
       "165 Suriname                                  Americas                 535    \n",
       "166 Swaziland                                 Africa                  1231    \n",
       "167 Sweden                                    Europe                  9511    \n",
       "168 Switzerland                               Europe                  7997    \n",
       "169 Syrian Arab Republic                      Eastern Mediterranean  21890    \n",
       "170 Tajikistan                                Europe                  8009    \n",
       "171 Thailand                                  South-East Asia        66785    \n",
       "172 The former Yugoslav Republic of Macedonia Europe                  2106    \n",
       "173 Timor-Leste                               South-East Asia         1114    \n",
       "174 Togo                                      Africa                  6643    \n",
       "175 Tonga                                     Western Pacific          105    \n",
       "176 Trinidad and Tobago                       Americas                1337    \n",
       "177 Tunisia                                   Eastern Mediterranean  10875    \n",
       "178 Turkey                                    Europe                 73997    \n",
       "179 Turkmenistan                              Europe                  5173    \n",
       "180 Tuvalu                                    Western Pacific           10    \n",
       "181 Uganda                                    Africa                 36346    \n",
       "182 Ukraine                                   Europe                 45530    \n",
       "183 United Arab Emirates                      Eastern Mediterranean   9206    \n",
       "184 United Kingdom                            Europe                 62783    \n",
       "185 United Republic of Tanzania               Africa                 47783    \n",
       "186 United States of America                  Americas              318000    \n",
       "187 Uruguay                                   Americas                3395    \n",
       "188 Uzbekistan                                Europe                 28541    \n",
       "189 Vanuatu                                   Western Pacific          247    \n",
       "190 Venezuela (Bolivarian Republic of)        Americas               29955    \n",
       "191 Viet Nam                                  Western Pacific        90796    \n",
       "192 Yemen                                     Eastern Mediterranean  23852    \n",
       "193 Zambia                                    Africa                 14075    \n",
       "194 Zimbabwe                                  Africa                 13724    \n",
       "    Under15 Over60 FertilityRate LifeExpectancy ChildMortality\n",
       "1   47.42    3.82  5.40          60              98.5         \n",
       "2   21.33   14.93  1.75          74              16.7         \n",
       "3   27.42    7.17  2.83          73              20.0         \n",
       "4   15.20   22.86    NA          82               3.2         \n",
       "5   47.58    3.84  6.10          51             163.5         \n",
       "6   25.96   12.35  2.12          75               9.9         \n",
       "7   24.42   14.97  2.20          76              14.2         \n",
       "8   20.34   14.06  1.74          71              16.4         \n",
       "9   18.95   19.46  1.89          82               4.9         \n",
       "10  14.51   23.52  1.44          81               4.0         \n",
       "11  22.25    8.24  1.96          71              35.2         \n",
       "12  21.62   11.24  1.90          75              16.9         \n",
       "13  20.16    3.38  2.12          79               9.6         \n",
       "14  30.57    6.89  2.24          70              40.9         \n",
       "15  18.99   15.78  1.84          78              18.4         \n",
       "16  15.10   19.31  1.47          71               5.2         \n",
       "17  16.88   23.81  1.85          80               4.2         \n",
       "18  34.40    5.74  2.76          74              18.3         \n",
       "19  42.95    4.54  5.01          57              89.5         \n",
       "20  28.53    6.90  2.32          67              44.6         \n",
       "21  35.23    7.28  3.31          67              41.4         \n",
       "22  16.35   20.52  1.26          76               6.7         \n",
       "23  33.75    5.63  2.71          66              53.3         \n",
       "24  24.56   10.81  1.82          74              14.4         \n",
       "25  25.75    7.03  2.03          77               8.0         \n",
       "26  13.53   26.11  1.51          74              12.1         \n",
       "27  45.66    3.88  5.78          56             102.4         \n",
       "28  44.20    3.87  6.21          53             104.3         \n",
       "29  31.23    7.67  2.93          65              39.7         \n",
       "30  43.08    4.89  4.94          53              94.9         \n",
       "⋮   ⋮       ⋮      ⋮             ⋮              ⋮             \n",
       "165 27.83    9.55  2.32          72             20.8          \n",
       "166 38.05    5.34  3.48          50             79.7          \n",
       "167 16.71   25.32  1.93          82              2.9          \n",
       "168 14.79   23.25  1.51          83              4.3          \n",
       "169 35.35    6.09  3.04          75             15.1          \n",
       "170 35.75    4.80  3.81          68             58.3          \n",
       "171 18.47   13.96  1.43          74             13.2          \n",
       "172 16.89   17.56  1.44          75              7.4          \n",
       "173 46.33    5.16  6.11          64             56.7          \n",
       "174 41.89    4.44  4.75          56             95.5          \n",
       "175 37.33    7.96  3.86          72             12.8          \n",
       "176 20.73   13.18  1.80          71             20.7          \n",
       "177 23.22   10.49  2.04          76             16.1          \n",
       "178 26.00   10.56  2.08          76             14.2          \n",
       "179 28.65    6.30  2.38          63             52.8          \n",
       "180 30.61    9.07    NA          64             29.7          \n",
       "181 48.54    3.72  6.06          56             68.9          \n",
       "182 14.18   20.76  1.45          71             10.7          \n",
       "183 14.41    0.81  1.84          76              8.4          \n",
       "184 17.54   23.06  1.90          80              4.8          \n",
       "185 44.85    4.89  5.36          59             54.0          \n",
       "186 19.63   19.31  2.00          79              7.1          \n",
       "187 22.05   18.59  2.07          77              7.2          \n",
       "188 28.90    6.38  2.38          68             39.6          \n",
       "189 37.37    6.02  3.46          72             17.9          \n",
       "190 28.84    9.17  2.44          75             15.3          \n",
       "191 22.87    9.32  1.79          75             23.0          \n",
       "192 40.72    4.54  4.35          64             60.0          \n",
       "193 46.73    3.95  5.77          55             88.5          \n",
       "194 40.24    5.68  3.64          54             89.8          \n",
       "    CellularSubscribers LiteracyRate GNI   PrimarySchoolEnrollmentMale\n",
       "1    54.26                NA          1140   NA                       \n",
       "2    96.39                NA          8820   NA                       \n",
       "3    98.99                NA          8310 98.2                       \n",
       "4    75.49                NA            NA 78.4                       \n",
       "5    48.38              70.1          5230 93.1                       \n",
       "6   196.41              99.0         17900 91.1                       \n",
       "7   134.92              97.8         17130   NA                       \n",
       "8   103.57              99.6          6100   NA                       \n",
       "9   108.34                NA         38110 96.9                       \n",
       "10  154.78                NA         42050   NA                       \n",
       "11  108.75                NA          8960 85.3                       \n",
       "12   86.06                NA            NA   NA                       \n",
       "13  127.96              91.9            NA   NA                       \n",
       "14   56.06              56.8          1940   NA                       \n",
       "15  127.01                NA            NA   NA                       \n",
       "16  111.88                NA         14460   NA                       \n",
       "17  116.61                NA         39190 98.9                       \n",
       "18   69.96                NA          6090   NA                       \n",
       "19   85.33              42.4          1620   NA                       \n",
       "20   65.58                NA          5570 88.3                       \n",
       "21   82.82                NA          4890 91.2                       \n",
       "22   84.52              97.9          9190 86.5                       \n",
       "23  142.82              84.5         14550   NA                       \n",
       "24  124.26                NA         11420   NA                       \n",
       "25  109.17              95.2            NA   NA                       \n",
       "26  140.68                NA         14160 99.3                       \n",
       "27   45.27                NA          1300 60.7                       \n",
       "28   22.33              67.2           610   NA                       \n",
       "29   96.17                NA          2230 96.4                       \n",
       "30   52.35                NA          2330 99.6                       \n",
       "⋮   ⋮                   ⋮            ⋮     ⋮                          \n",
       "165 178.88              94.7            NA   NA                       \n",
       "166  63.70              87.4          5930   NA                       \n",
       "167 118.57                NA         42200 99.7                       \n",
       "168 131.43                NA         52570 98.9                       \n",
       "169  63.17              83.4            NA   NA                       \n",
       "170  90.64              99.7          2300 99.5                       \n",
       "171 111.63                NA          8360   NA                       \n",
       "172 107.24              97.3         11090 97.3                       \n",
       "173  53.23              58.3            NA 86.2                       \n",
       "174  50.45                NA          1040   NA                       \n",
       "175  52.63                NA          5000   NA                       \n",
       "176 135.64              98.8            NA 97.7                       \n",
       "177 116.93                NA          9030   NA                       \n",
       "178  88.70                NA         16940 99.5                       \n",
       "179  68.77              99.6          8690   NA                       \n",
       "180  21.63                NA            NA   NA                       \n",
       "181  48.38              73.2          1310 89.7                       \n",
       "182 122.98              99.7          7040 90.8                       \n",
       "183 148.62                NA         47890   NA                       \n",
       "184 130.75                NA         36010 99.8                       \n",
       "185  55.53              73.2          1500   NA                       \n",
       "186  92.72                NA         48820 95.4                       \n",
       "187 140.75              98.1         14640   NA                       \n",
       "188  91.65              99.4          3420 93.3                       \n",
       "189  55.76              82.6          4330   NA                       \n",
       "190  97.78                NA         12430 94.7                       \n",
       "191 143.39              93.2          3250   NA                       \n",
       "192  47.05              63.9          2170 85.5                       \n",
       "193  60.59              71.2          1490 91.4                       \n",
       "194  72.13              92.2            NA   NA                       \n",
       "    PrimarySchoolEnrollmentFemale\n",
       "1     NA                         \n",
       "2     NA                         \n",
       "3   96.4                         \n",
       "4   79.4                         \n",
       "5   78.2                         \n",
       "6   84.5                         \n",
       "7     NA                         \n",
       "8     NA                         \n",
       "9   97.5                         \n",
       "10    NA                         \n",
       "11  84.1                         \n",
       "12    NA                         \n",
       "13    NA                         \n",
       "14    NA                         \n",
       "15    NA                         \n",
       "16    NA                         \n",
       "17  99.2                         \n",
       "18    NA                         \n",
       "19    NA                         \n",
       "20  91.5                         \n",
       "21  91.5                         \n",
       "22  88.4                         \n",
       "23    NA                         \n",
       "24    NA                         \n",
       "25    NA                         \n",
       "26  99.7                         \n",
       "27  55.9                         \n",
       "28    NA                         \n",
       "29  95.4                         \n",
       "30  87.4                         \n",
       "⋮   ⋮                            \n",
       "165   NA                         \n",
       "166   NA                         \n",
       "167 99.0                         \n",
       "168 99.5                         \n",
       "169   NA                         \n",
       "170 96.0                         \n",
       "171   NA                         \n",
       "172 99.2                         \n",
       "173 85.6                         \n",
       "174   NA                         \n",
       "175   NA                         \n",
       "176 97.0                         \n",
       "177   NA                         \n",
       "178 98.3                         \n",
       "179   NA                         \n",
       "180   NA                         \n",
       "181 92.3                         \n",
       "182 91.5                         \n",
       "183   NA                         \n",
       "184 99.6                         \n",
       "185   NA                         \n",
       "186 96.1                         \n",
       "187   NA                         \n",
       "188 91.0                         \n",
       "189   NA                         \n",
       "190 95.1                         \n",
       "191   NA                         \n",
       "192 70.5                         \n",
       "193 93.9                         \n",
       "194   NA                         "
      ]
     },
     "metadata": {},
     "output_type": "display_data"
    }
   ],
   "source": [
    "whocsv"
   ]
  },
  {
   "cell_type": "code",
   "execution_count": 4,
   "metadata": {},
   "outputs": [
    {
     "name": "stdout",
     "output_type": "stream",
     "text": [
      "'data.frame':\t194 obs. of  13 variables:\n",
      " $ Country                      : Factor w/ 194 levels \"Afghanistan\",..: 1 2 3 4 5 6 7 8 9 10 ...\n",
      " $ Region                       : Factor w/ 6 levels \"Africa\",\"Americas\",..: 3 4 1 4 1 2 2 4 6 4 ...\n",
      " $ Population                   : int  29825 3162 38482 78 20821 89 41087 2969 23050 8464 ...\n",
      " $ Under15                      : num  47.4 21.3 27.4 15.2 47.6 ...\n",
      " $ Over60                       : num  3.82 14.93 7.17 22.86 3.84 ...\n",
      " $ FertilityRate                : num  5.4 1.75 2.83 NA 6.1 2.12 2.2 1.74 1.89 1.44 ...\n",
      " $ LifeExpectancy               : int  60 74 73 82 51 75 76 71 82 81 ...\n",
      " $ ChildMortality               : num  98.5 16.7 20 3.2 163.5 ...\n",
      " $ CellularSubscribers          : num  54.3 96.4 99 75.5 48.4 ...\n",
      " $ LiteracyRate                 : num  NA NA NA NA 70.1 99 97.8 99.6 NA NA ...\n",
      " $ GNI                          : num  1140 8820 8310 NA 5230 ...\n",
      " $ PrimarySchoolEnrollmentMale  : num  NA NA 98.2 78.4 93.1 91.1 NA NA 96.9 NA ...\n",
      " $ PrimarySchoolEnrollmentFemale: num  NA NA 96.4 79.4 78.2 84.5 NA NA 97.5 NA ...\n"
     ]
    }
   ],
   "source": [
    "str(whocsv)"
   ]
  },
  {
   "cell_type": "code",
   "execution_count": null,
   "metadata": {
    "collapsed": true
   },
   "outputs": [],
   "source": []
  }
 ],
 "metadata": {
  "kernelspec": {
   "display_name": "R",
   "language": "R",
   "name": "ir"
  },
  "language_info": {
   "codemirror_mode": "r",
   "file_extension": ".r",
   "mimetype": "text/x-r-source",
   "name": "R",
   "pygments_lexer": "r",
   "version": "3.2.3"
  }
 },
 "nbformat": 4,
 "nbformat_minor": 2
}
