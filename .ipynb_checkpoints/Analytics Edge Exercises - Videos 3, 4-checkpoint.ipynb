{
 "cells": [
  {
   "cell_type": "code",
   "execution_count": 3,
   "metadata": {},
   "outputs": [
    {
     "data": {
      "text/html": [
       "3.51188458428425"
      ],
      "text/latex": [
       "3.51188458428425"
      ],
      "text/markdown": [
       "3.51188458428425"
      ],
      "text/plain": [
       "[1] 3.511885"
      ]
     },
     "metadata": {},
     "output_type": "display_data"
    }
   ],
   "source": [
    "sd(c(5,8,12))"
   ]
  },
  {
   "cell_type": "code",
   "execution_count": 5,
   "metadata": {},
   "outputs": [
    {
     "data": {
      "text/html": [
       "2"
      ],
      "text/latex": [
       "2"
      ],
      "text/markdown": [
       "2"
      ],
      "text/plain": [
       "[1] 2"
      ]
     },
     "metadata": {},
     "output_type": "display_data"
    }
   ],
   "source": [
    "which.min(c(4,1,6))"
   ]
  },
  {
   "cell_type": "code",
   "execution_count": 18,
   "metadata": {},
   "outputs": [
    {
     "data": {
      "text/html": [
       "<ol class=list-inline>\n",
       "\t<li>'Square2.Root'</li>\n",
       "\t<li>'SquareRoot2'</li>\n",
       "</ol>\n"
      ],
      "text/latex": [
       "\\begin{enumerate*}\n",
       "\\item 'Square2.Root'\n",
       "\\item 'SquareRoot2'\n",
       "\\end{enumerate*}\n"
      ],
      "text/markdown": [
       "1. 'Square2.Root'\n",
       "2. 'SquareRoot2'\n",
       "\n",
       "\n"
      ],
      "text/plain": [
       "[1] \"Square2.Root\" \"SquareRoot2\" "
      ]
     },
     "metadata": {},
     "output_type": "display_data"
    }
   ],
   "source": [
    "SquareRoot2 = 1\n",
    "Square2.Root = 1\n",
    "ls()"
   ]
  },
  {
   "cell_type": "code",
   "execution_count": 20,
   "metadata": {},
   "outputs": [
    {
     "data": {
      "text/html": [
       "<ol class=list-inline>\n",
       "\t<li>'Brazil'</li>\n",
       "\t<li>'China'</li>\n",
       "\t<li>'India'</li>\n",
       "\t<li>'USA'</li>\n",
       "</ol>\n"
      ],
      "text/latex": [
       "\\begin{enumerate*}\n",
       "\\item 'Brazil'\n",
       "\\item 'China'\n",
       "\\item 'India'\n",
       "\\item 'USA'\n",
       "\\end{enumerate*}\n"
      ],
      "text/markdown": [
       "1. 'Brazil'\n",
       "2. 'China'\n",
       "3. 'India'\n",
       "4. 'USA'\n",
       "\n",
       "\n"
      ],
      "text/plain": [
       "[1] \"Brazil\" \"China\"  \"India\"  \"USA\"   "
      ]
     },
     "metadata": {},
     "output_type": "display_data"
    }
   ],
   "source": [
    "Country = c(\"Brazil\", \"China\", \"India\", \"USA\")\n",
    "Country"
   ]
  },
  {
   "cell_type": "code",
   "execution_count": 22,
   "metadata": {},
   "outputs": [
    {
     "data": {
      "text/html": [
       "<ol class=list-inline>\n",
       "\t<li>71</li>\n",
       "\t<li>83</li>\n",
       "\t<li>91</li>\n",
       "\t<li>74</li>\n",
       "</ol>\n"
      ],
      "text/latex": [
       "\\begin{enumerate*}\n",
       "\\item 71\n",
       "\\item 83\n",
       "\\item 91\n",
       "\\item 74\n",
       "\\end{enumerate*}\n"
      ],
      "text/markdown": [
       "1. 71\n",
       "2. 83\n",
       "3. 91\n",
       "4. 74\n",
       "\n",
       "\n"
      ],
      "text/plain": [
       "[1] 71 83 91 74"
      ]
     },
     "metadata": {},
     "output_type": "display_data"
    }
   ],
   "source": [
    "LifeExpectancy = c(71, 83, 91,74)\n",
    "LifeExpectancy"
   ]
  },
  {
   "cell_type": "code",
   "execution_count": 26,
   "metadata": {},
   "outputs": [
    {
     "data": {
      "text/html": [
       "<ol class=list-inline>\n",
       "\t<li>0</li>\n",
       "\t<li>10</li>\n",
       "\t<li>20</li>\n",
       "\t<li>30</li>\n",
       "\t<li>40</li>\n",
       "\t<li>50</li>\n",
       "\t<li>60</li>\n",
       "\t<li>70</li>\n",
       "\t<li>80</li>\n",
       "\t<li>90</li>\n",
       "\t<li>100</li>\n",
       "</ol>\n"
      ],
      "text/latex": [
       "\\begin{enumerate*}\n",
       "\\item 0\n",
       "\\item 10\n",
       "\\item 20\n",
       "\\item 30\n",
       "\\item 40\n",
       "\\item 50\n",
       "\\item 60\n",
       "\\item 70\n",
       "\\item 80\n",
       "\\item 90\n",
       "\\item 100\n",
       "\\end{enumerate*}\n"
      ],
      "text/markdown": [
       "1. 0\n",
       "2. 10\n",
       "3. 20\n",
       "4. 30\n",
       "5. 40\n",
       "6. 50\n",
       "7. 60\n",
       "8. 70\n",
       "9. 80\n",
       "10. 90\n",
       "11. 100\n",
       "\n",
       "\n"
      ],
      "text/plain": [
       " [1]   0  10  20  30  40  50  60  70  80  90 100"
      ]
     },
     "metadata": {},
     "output_type": "display_data"
    }
   ],
   "source": [
    "seq(0,100,10)"
   ]
  },
  {
   "cell_type": "code",
   "execution_count": 30,
   "metadata": {},
   "outputs": [
    {
     "data": {
      "text/html": [
       "<table>\n",
       "<thead><tr><th scope=col>Country</th><th scope=col>LifeExpectancy</th></tr></thead>\n",
       "<tbody>\n",
       "\t<tr><td>Brazil</td><td>71    </td></tr>\n",
       "\t<tr><td>China </td><td>83    </td></tr>\n",
       "\t<tr><td>India </td><td>91    </td></tr>\n",
       "\t<tr><td>USA   </td><td>74    </td></tr>\n",
       "</tbody>\n",
       "</table>\n"
      ],
      "text/latex": [
       "\\begin{tabular}{r|ll}\n",
       " Country & LifeExpectancy\\\\\n",
       "\\hline\n",
       "\t Brazil & 71    \\\\\n",
       "\t China  & 83    \\\\\n",
       "\t India  & 91    \\\\\n",
       "\t USA    & 74    \\\\\n",
       "\\end{tabular}\n"
      ],
      "text/markdown": [
       "\n",
       "Country | LifeExpectancy | \n",
       "|---|---|---|---|\n",
       "| Brazil | 71     | \n",
       "| China  | 83     | \n",
       "| India  | 91     | \n",
       "| USA    | 74     | \n",
       "\n",
       "\n"
      ],
      "text/plain": [
       "  Country LifeExpectancy\n",
       "1 Brazil  71            \n",
       "2 China   83            \n",
       "3 India   91            \n",
       "4 USA     74            "
      ]
     },
     "metadata": {},
     "output_type": "display_data"
    }
   ],
   "source": [
    "CountryData = data.frame(Country,LifeExpectancy)\n",
    "CountryData"
   ]
  },
  {
   "cell_type": "code",
   "execution_count": 35,
   "metadata": {},
   "outputs": [
    {
     "data": {
      "text/html": [
       "<table>\n",
       "<thead><tr><th scope=col>Country</th><th scope=col>LifeExpectancy</th><th scope=col>Population</th></tr></thead>\n",
       "<tbody>\n",
       "\t<tr><td>Brazil    </td><td>71        </td><td>   1111231</td></tr>\n",
       "\t<tr><td>China     </td><td>83        </td><td>  29343234</td></tr>\n",
       "\t<tr><td>India     </td><td>91        </td><td>  23421234</td></tr>\n",
       "\t<tr><td>USA       </td><td>74        </td><td>1234213123</td></tr>\n",
       "</tbody>\n",
       "</table>\n"
      ],
      "text/latex": [
       "\\begin{tabular}{r|lll}\n",
       " Country & LifeExpectancy & Population\\\\\n",
       "\\hline\n",
       "\t Brazil     & 71         &    1111231\\\\\n",
       "\t China      & 83         &   29343234\\\\\n",
       "\t India      & 91         &   23421234\\\\\n",
       "\t USA        & 74         & 1234213123\\\\\n",
       "\\end{tabular}\n"
      ],
      "text/markdown": [
       "\n",
       "Country | LifeExpectancy | Population | \n",
       "|---|---|---|---|\n",
       "| Brazil     | 71         |    1111231 | \n",
       "| China      | 83         |   29343234 | \n",
       "| India      | 91         |   23421234 | \n",
       "| USA        | 74         | 1234213123 | \n",
       "\n",
       "\n"
      ],
      "text/plain": [
       "  Country LifeExpectancy Population\n",
       "1 Brazil  71                1111231\n",
       "2 China   83               29343234\n",
       "3 India   91               23421234\n",
       "4 USA     74             1234213123"
      ]
     },
     "metadata": {},
     "output_type": "display_data"
    }
   ],
   "source": [
    "CountryData$Population = c(1111231, 29343234, 23421234, 1234213123)\n",
    "CountryData"
   ]
  },
  {
   "cell_type": "code",
   "execution_count": 37,
   "metadata": {},
   "outputs": [
    {
     "data": {
      "text/html": [
       "<table>\n",
       "<thead><tr><th scope=col>Country</th><th scope=col>LifeExpectancy</th><th scope=col>Population</th></tr></thead>\n",
       "<tbody>\n",
       "\t<tr><td>Australia</td><td>71       </td><td>123242   </td></tr>\n",
       "\t<tr><td>Greece   </td><td>13       </td><td>533535   </td></tr>\n",
       "</tbody>\n",
       "</table>\n"
      ],
      "text/latex": [
       "\\begin{tabular}{r|lll}\n",
       " Country & LifeExpectancy & Population\\\\\n",
       "\\hline\n",
       "\t Australia & 71        & 123242   \\\\\n",
       "\t Greece    & 13        & 533535   \\\\\n",
       "\\end{tabular}\n"
      ],
      "text/markdown": [
       "\n",
       "Country | LifeExpectancy | Population | \n",
       "|---|---|\n",
       "| Australia | 71        | 123242    | \n",
       "| Greece    | 13        | 533535    | \n",
       "\n",
       "\n"
      ],
      "text/plain": [
       "  Country   LifeExpectancy Population\n",
       "1 Australia 71             123242    \n",
       "2 Greece    13             533535    "
      ]
     },
     "metadata": {},
     "output_type": "display_data"
    }
   ],
   "source": [
    "Country = c(\"Australia\", \"Greece\")\n",
    "Population = c(123242, 533535)\n",
    "LifeExpectancy = c(71, 13)\n",
    "CountryData2 =  data.frame(Country, LifeExpectancy, Population)\n",
    "CountryData2"
   ]
  }
 ],
 "metadata": {
  "kernelspec": {
   "display_name": "R",
   "language": "R",
   "name": "ir"
  },
  "language_info": {
   "codemirror_mode": "r",
   "file_extension": ".r",
   "mimetype": "text/x-r-source",
   "name": "R",
   "pygments_lexer": "r",
   "version": "3.2.3"
  }
 },
 "nbformat": 4,
 "nbformat_minor": 2
}
